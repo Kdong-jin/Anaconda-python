{
 "cells": [
  {
   "cell_type": "code",
   "execution_count": 1,
   "id": "8249384e",
   "metadata": {},
   "outputs": [
    {
     "ename": "NameError",
     "evalue": "name 'df' is not defined",
     "output_type": "error",
     "traceback": [
      "\u001b[0;31m---------------------------------------------------------------------------\u001b[0m",
      "\u001b[0;31mNameError\u001b[0m                                 Traceback (most recent call last)",
      "\u001b[0;32m<ipython-input-1-c2a5b817c3b5>\u001b[0m in \u001b[0;36m<module>\u001b[0;34m\u001b[0m\n\u001b[1;32m      4\u001b[0m     \u001b[0;32mreturn\u001b[0m \u001b[0mn\u001b[0m\u001b[0;34m+\u001b[0m\u001b[0;36m10\u001b[0m\u001b[0;34m\u001b[0m\u001b[0;34m\u001b[0m\u001b[0m\n\u001b[1;32m      5\u001b[0m \u001b[0;34m\u001b[0m\u001b[0m\n\u001b[0;32m----> 6\u001b[0;31m \u001b[0msr1\u001b[0m \u001b[0;34m=\u001b[0m \u001b[0mdf\u001b[0m\u001b[0;34m[\u001b[0m\u001b[0;34m'age'\u001b[0m\u001b[0;34m]\u001b[0m\u001b[0;34m.\u001b[0m\u001b[0mapply\u001b[0m\u001b[0;34m(\u001b[0m\u001b[0madd_10\u001b[0m\u001b[0;34m)\u001b[0m\u001b[0;34m\u001b[0m\u001b[0;34m\u001b[0m\u001b[0m\n\u001b[0m\u001b[1;32m      7\u001b[0m \u001b[0msr1\u001b[0m\u001b[0;34m.\u001b[0m\u001b[0mhead\u001b[0m\u001b[0;34m\u001b[0m\u001b[0;34m\u001b[0m\u001b[0m\n",
      "\u001b[0;31mNameError\u001b[0m: name 'df' is not defined"
     ]
    }
   ],
   "source": [
    "# 개별 원소에 함수 매핑 : 시리즈 객체.apply(함수명)\n",
    "\n",
    "\n",
    "\n",
    "def add_10(n):\n",
    "    return n+10\n",
    "\n",
    "sr1 = df['age'].apply(add_10)\n",
    "sr1.head\n",
    "\n",
    "# sr1 = df['age'].apply(add_10)\n",
    "\n",
    "sr1 = df['age'].apply(lambda x: x+10)\n",
    "sr1.head\n",
    "sr2\n",
    "sr2 = df['age'].apply(add_two_10, b=20)\n"
   ]
  },
  {
   "cell_type": "code",
   "execution_count": null,
   "id": "fef2248f",
   "metadata": {},
   "outputs": [],
   "source": [
    "ㅇef max_min(x):\n",
    "    return x.max() -x.min()\n",
    "\n",
    "result = df.apply(lambda x: x.max() - xmin(), axis = 1)\n",
    "print(result)\n",
    "\n",
    "df['sum'] = df.apply(lambda x:x.sum(), axis = 1)\n",
    "ad.head()\n"
   ]
  },
  {
   "cell_type": "code",
   "execution_count": 2,
   "id": "8a8a53f0",
   "metadata": {},
   "outputs": [
    {
     "ename": "NameError",
     "evalue": "name 'titanic' is not defined",
     "output_type": "error",
     "traceback": [
      "\u001b[0;31m---------------------------------------------------------------------------\u001b[0m",
      "\u001b[0;31mNameError\u001b[0m                                 Traceback (most recent call last)",
      "\u001b[0;32m<ipython-input-2-12fc495d4eaa>\u001b[0m in \u001b[0;36m<module>\u001b[0;34m\u001b[0m\n\u001b[1;32m      2\u001b[0m \u001b[0;31m# 데이터 프레임의 다양한 응용\u001b[0m\u001b[0;34m\u001b[0m\u001b[0;34m\u001b[0m\u001b[0;34m\u001b[0m\u001b[0m\n\u001b[1;32m      3\u001b[0m \u001b[0;34m\u001b[0m\u001b[0m\n\u001b[0;32m----> 4\u001b[0;31m \u001b[0mmask1\u001b[0m \u001b[0;34m=\u001b[0m \u001b[0;34m(\u001b[0m\u001b[0mtitanic\u001b[0m\u001b[0;34m.\u001b[0m\u001b[0mage\u001b[0m \u001b[0;34m>=\u001b[0m \u001b[0;36m10\u001b[0m\u001b[0;34m)\u001b[0m \u001b[0;34m&\u001b[0m \u001b[0;34m(\u001b[0m\u001b[0mtitanic\u001b[0m\u001b[0;34m.\u001b[0m\u001b[0mage\u001b[0m \u001b[0;34m<\u001b[0m\u001b[0;36m20\u001b[0m\u001b[0;34m)\u001b[0m\u001b[0;34m\u001b[0m\u001b[0;34m\u001b[0m\u001b[0m\n\u001b[0m\u001b[1;32m      5\u001b[0m \u001b[0;31m# df_teenage = titanic.loc[mask1, :]\u001b[0m\u001b[0;34m\u001b[0m\u001b[0;34m\u001b[0m\u001b[0;34m\u001b[0m\u001b[0m\n\u001b[1;32m      6\u001b[0m \u001b[0;34m\u001b[0m\u001b[0m\n",
      "\u001b[0;31mNameError\u001b[0m: name 'titanic' is not defined"
     ]
    }
   ],
   "source": [
    "# 열 분리 추가  : stock.xlsx \n",
    "# 데이터 프레임의 다양한 응용\n",
    "\n",
    "mask1 = (titanic.age >= 10) & (titanic.age <20)\n",
    "# df_teenage = titanic.loc[mask1, :]\n",
    "\n",
    "df_teenage = titanic.loc[(titanic.age >= 10) & (titanic.age < 20), :]\n",
    "df_teenage\n",
    "\n",
    "# df_female -> 10대 미만이고 여상만 필터링\n",
    "\n",
    "df_female = titanic.loc[(titanic.age<10) & (titanic.sex == \"female\"), :]\n",
    "df_female\n",
    "\n",
    "# df_1 : 10대 미만이거나 60대 이상인 데이터의 'age', 'sex', 'class' 만 검색\n",
    "\n",
    "mask2 = (titanic.age < 10) | (titanic.age >= 60)\n",
    "df_1 = titanic.loc[mask2, ['age', 'sex', 'class']]\n",
    "df_1\n",
    "\n"
   ]
  },
  {
   "cell_type": "code",
   "execution_count": 3,
   "id": "825503c7",
   "metadata": {},
   "outputs": [
    {
     "ename": "NameError",
     "evalue": "name 'pdf' is not defined",
     "output_type": "error",
     "traceback": [
      "\u001b[0;31m---------------------------------------------------------------------------\u001b[0m",
      "\u001b[0;31mNameError\u001b[0m                                 Traceback (most recent call last)",
      "\u001b[0;32m<ipython-input-3-15113b259619>\u001b[0m in \u001b[0;36m<module>\u001b[0;34m\u001b[0m\n\u001b[0;32m----> 1\u001b[0;31m \u001b[0mpdf\u001b[0m\u001b[0;34m\u001b[0m\u001b[0;34m\u001b[0m\u001b[0m\n\u001b[0m\u001b[1;32m      2\u001b[0m \u001b[0;34m\u001b[0m\u001b[0m\n\u001b[1;32m      3\u001b[0m pdf1 = pd.pivot_table(df,\n\u001b[1;32m      4\u001b[0m                      \u001b[0mindex\u001b[0m\u001b[0;34m=\u001b[0m\u001b[0;34m[\u001b[0m\u001b[0;34m'class'\u001b[0m\u001b[0;34m,\u001b[0m \u001b[0;34m'sex'\u001b[0m\u001b[0;34m]\u001b[0m\u001b[0;34m,\u001b[0m\u001b[0;34m\u001b[0m\u001b[0;34m\u001b[0m\u001b[0m\n\u001b[1;32m      5\u001b[0m                      \u001b[0mcolumn\u001b[0m \u001b[0;34m=\u001b[0m \u001b[0;34m'survived'\u001b[0m\u001b[0;34m,\u001b[0m\u001b[0;34m\u001b[0m\u001b[0;34m\u001b[0m\u001b[0m\n",
      "\u001b[0;31mNameError\u001b[0m: name 'pdf' is not defined"
     ]
    }
   ],
   "source": [
    "pdf\n",
    "\n",
    "pdf1 = pd.pivot_table(df,\n",
    "                     index=['class', 'sex'], \n",
    "                     column = 'survived',\n",
    "                     values = ['age', 'fare'],\n",
    "                     aggfunc = ['min', 'max'])\n",
    "\n",
    "pdf1\n",
    "pdf1.xs(1, level = 'survived', axis=1)\n",
    "                      "
   ]
  },
  {
   "cell_type": "code",
   "execution_count": null,
   "id": "2886da3d",
   "metadata": {},
   "outputs": [],
   "source": []
  },
  {
   "cell_type": "code",
   "execution_count": null,
   "id": "41ca2fc3",
   "metadata": {},
   "outputs": [],
   "source": []
  }
 ],
 "metadata": {
  "kernelspec": {
   "display_name": "Python 3",
   "language": "python",
   "name": "python3"
  },
  "language_info": {
   "codemirror_mode": {
    "name": "ipython",
    "version": 3
   },
   "file_extension": ".py",
   "mimetype": "text/x-python",
   "name": "python",
   "nbconvert_exporter": "python",
   "pygments_lexer": "ipython3",
   "version": "3.8.8"
  }
 },
 "nbformat": 4,
 "nbformat_minor": 5
}
