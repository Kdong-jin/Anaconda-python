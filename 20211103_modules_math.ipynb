{
 "cells": [
  {
   "cell_type": "code",
   "execution_count": 5,
   "id": "e92e3118",
   "metadata": {},
   "outputs": [
    {
     "name": "stdout",
     "output_type": "stream",
     "text": [
      "35 34 -0.5440211108893699\n"
     ]
    },
    {
     "data": {
      "text/plain": [
       "-0.5440211108893699"
      ]
     },
     "execution_count": 5,
     "metadata": {},
     "output_type": "execute_result"
    }
   ],
   "source": [
    "# 모듈 : 외부에 있는 모듈을 가져와서 저장 및 활용\n",
    "# import 모듈명 \n",
    "# 모듈, 함수명() 또는 모듈명, 변수명 온점으로 연결\n",
    "\n",
    "import math\n",
    "\n",
    "print(math.ceil(34.5), math.floor(34.5), math.sin(10))\n",
    "\n",
    "# from module name inpurt value or function\n",
    "\n",
    "from math import sin\n",
    "\n",
    "sin(10)\n"
   ]
  },
  {
   "cell_type": "code",
   "execution_count": 14,
   "id": "0f9a0158",
   "metadata": {},
   "outputs": [
    {
     "name": "stdout",
     "output_type": "stream",
     "text": [
      "0.9129452507276277\n",
      "-0.5440211108893699\n",
      "None\n",
      "2\n",
      "[4, 1]\n"
     ]
    }
   ],
   "source": [
    "# import module name as 식별자\n",
    "\n",
    "import math as mt # 식별자 mt의 의미 확인 필요\n",
    "\n",
    "print(mt.sin(20))\n",
    "\n",
    "\n",
    "from math import sin as S\n",
    "\n",
    "S(10)\n",
    "print(S(10))\n",
    "\n",
    "import random\n",
    "\n",
    "random.random() # random() 0.0 < x < 1.0 사이의 값을 임의로 불러온다.\n",
    "\n",
    "# shuffle 함수 : 리스트의 요소들을 임의로 섞는다. \n",
    "print(random.shuffle([1,2,3,4,10]))\n",
    "      \n",
    "# choice : 리스트의 요소들 중 하나를 임의로 선택한다. \n",
    "print(random.choice([1,2,3,4]))\n",
    "      \n",
    "# sample : 리스트의 요소 중에 k개를 추출합니다. \n",
    "print(random.sample([1,2,3,4,5], 2))\n"
   ]
  },
  {
   "cell_type": "code",
   "execution_count": 16,
   "id": "f97aefd4",
   "metadata": {},
   "outputs": [
    {
     "ename": "AttributeError",
     "evalue": "'str' object has no attribute 'os'",
     "output_type": "error",
     "traceback": [
      "\u001b[0;31m---------------------------------------------------------------------------\u001b[0m",
      "\u001b[0;31mAttributeError\u001b[0m                            Traceback (most recent call last)",
      "\u001b[0;32m<ipython-input-16-9fd37be460f7>\u001b[0m in \u001b[0;36m<module>\u001b[0;34m\u001b[0m\n\u001b[1;32m      3\u001b[0m \u001b[0;32mimport\u001b[0m \u001b[0mos\u001b[0m\u001b[0;34m\u001b[0m\u001b[0;34m\u001b[0m\u001b[0m\n\u001b[1;32m      4\u001b[0m \u001b[0;34m\u001b[0m\u001b[0m\n\u001b[0;32m----> 5\u001b[0;31m \u001b[0mprint\u001b[0m \u001b[0;34m(\u001b[0m\u001b[0;34m\"현재 운영체제 : \"\u001b[0m\u001b[0;34m.\u001b[0m \u001b[0mos\u001b[0m\u001b[0;34m.\u001b[0m\u001b[0mname\u001b[0m\u001b[0;34m)\u001b[0m\u001b[0;34m\u001b[0m\u001b[0;34m\u001b[0m\u001b[0m\n\u001b[0m\u001b[1;32m      6\u001b[0m \u001b[0mprint\u001b[0m \u001b[0;34m(\u001b[0m\u001b[0;34m\"현재 작업폴더 : \"\u001b[0m\u001b[0;34m.\u001b[0m \u001b[0mos\u001b[0m\u001b[0;34m.\u001b[0m\u001b[0mgetcwd\u001b[0m\u001b[0;34m(\u001b[0m\u001b[0;34m)\u001b[0m\u001b[0;34m)\u001b[0m\u001b[0;34m\u001b[0m\u001b[0;34m\u001b[0m\u001b[0m\n\u001b[1;32m      7\u001b[0m \u001b[0;34m\u001b[0m\u001b[0m\n",
      "\u001b[0;31mAttributeError\u001b[0m: 'str' object has no attribute 'os'"
     ]
    }
   ],
   "source": [
    "# sys module , os module \n",
    "\n",
    "import os \n",
    "\n",
    "print (\"현재 운영체제 : \". os.name)\n",
    "print (\"현재 작업폴더 : \". os.getcwd())\n",
    "\n",
    "os.mkdir(\"test_dir\")\n",
    "print(\"현재 작업폴더의 디렉토리 : \". os.listdir())\n",
    "\n",
    "# file 삭제\n",
    "# os.remove(파일명)\n",
    "# os.system(명령어) # os.system(\"dir\")\n",
    "\n",
    "import time\n",
    "time.sleep(5)"
   ]
  },
  {
   "cell_type": "code",
   "execution_count": null,
   "id": "6a56da2c",
   "metadata": {},
   "outputs": [],
   "source": [
    "# urllib 모듈 url을 다루는 라이브러리\n",
    "from urllib import request\n",
    "\n",
    "web_page = request\n",
    "\n",
    "# 외부 모듈 설치 \n",
    "# pip install module name"
   ]
  },
  {
   "cell_type": "code",
   "execution_count": 17,
   "id": "591133cf",
   "metadata": {},
   "outputs": [
    {
     "ename": "NameError",
     "evalue": "name '__name' is not defined",
     "output_type": "error",
     "traceback": [
      "\u001b[0;31m---------------------------------------------------------------------------\u001b[0m",
      "\u001b[0;31mNameError\u001b[0m                                 Traceback (most recent call last)",
      "\u001b[0;32m<ipython-input-17-e9cac75049ac>\u001b[0m in \u001b[0;36m<module>\u001b[0;34m\u001b[0m\n\u001b[1;32m      1\u001b[0m \u001b[0;32mfrom\u001b[0m \u001b[0mflask\u001b[0m \u001b[0;32mimport\u001b[0m \u001b[0mFlask\u001b[0m\u001b[0;34m\u001b[0m\u001b[0;34m\u001b[0m\u001b[0m\n\u001b[1;32m      2\u001b[0m \u001b[0;34m\u001b[0m\u001b[0m\n\u001b[0;32m----> 3\u001b[0;31m \u001b[0mapp\u001b[0m \u001b[0;34m=\u001b[0m \u001b[0mFlask\u001b[0m\u001b[0;34m(\u001b[0m\u001b[0m__name\u001b[0m\u001b[0;34m)\u001b[0m\u001b[0;34m\u001b[0m\u001b[0;34m\u001b[0m\u001b[0m\n\u001b[0m\u001b[1;32m      4\u001b[0m \u001b[0;34m@\u001b[0m\u001b[0mapp\u001b[0m\u001b[0;34m.\u001b[0m\u001b[0mroute\u001b[0m\u001b[0;34m(\u001b[0m\u001b[0;34m\"/\"\u001b[0m\u001b[0;34m)\u001b[0m\u001b[0;34m\u001b[0m\u001b[0;34m\u001b[0m\u001b[0m\n\u001b[1;32m      5\u001b[0m \u001b[0;34m\u001b[0m\u001b[0m\n",
      "\u001b[0;31mNameError\u001b[0m: name '__name' is not defined"
     ]
    }
   ],
   "source": [
    "from flask import Flask\n",
    "\n",
    "app = Flask(__name)\n",
    "@app.route(\"/\")\n",
    "\n",
    "def hello():\n",
    "    return \"<h1>hello world!!<h1>\"\n",
    "\n",
    "from urllib import request\n",
    "from bs4 import BeautifulSoup\n",
    "#1. url open \n",
    "\n",
    "target = request.open(\"url roat\")\n",
    "soup - BeautifulSoup(target, \"html.parser\")\n",
    "\n",
    "#웹 브라우저를 활용한 프로그램 Django or Flask tkdyd\n",
    "from flask import Flask\n",
    "\n"
   ]
  },
  {
   "cell_type": "code",
   "execution_count": null,
   "id": "a1563a6f",
   "metadata": {},
   "outputs": [],
   "source": []
  }
 ],
 "metadata": {
  "kernelspec": {
   "display_name": "Python 3",
   "language": "python",
   "name": "python3"
  },
  "language_info": {
   "codemirror_mode": {
    "name": "ipython",
    "version": 3
   },
   "file_extension": ".py",
   "mimetype": "text/x-python",
   "name": "python",
   "nbconvert_exporter": "python",
   "pygments_lexer": "ipython3",
   "version": "3.8.8"
  }
 },
 "nbformat": 4,
 "nbformat_minor": 5
}
