{
 "cells": [
  {
   "cell_type": "code",
   "execution_count": null,
   "id": "75c75d0c",
   "metadata": {},
   "outputs": [],
   "source": [
    "# 기존 수업 review\n",
    "# 리스트와 반복문 진행 완료 \n",
    "# 리스트는 여러 데이터를 순차적으로 나열하여 저장할 수 있는 데이터 타입임. \n",
    "# append, insert, in, not in, for \n",
    "# 문자, 숫자, bullean -> 이를 묶어둔 것이 list\n",
    "# 리스트를 우선 선언하고, 리스트 활용\n",
    "# insert (position, elements)\n",
    "# extend 와 append 의 차이점 \n",
    "# : append는 추가 시, 하나의 요소로 추가\n",
    "# : extend는 각각의 요소를 리스트로써 추가 \n",
    "# del, pop, remove, clear 로 리스트 및 요소 삭제 \n",
    "# del 리스트명, 리스트명.pop(index), 리스트.clear(index), 리스트.remove(index)"
   ]
  },
  {
   "cell_type": "code",
   "execution_count": null,
   "id": "e8adb300",
   "metadata": {},
   "outputs": [],
   "source": [
    "# 리스트 요소 추가 및 제거, 변경\n",
    "\n",
    "a_list = [1, 2, 3]\n",
    "b_list = [4, 5, 6]\n",
    "\n",
    "# list 요소 추가 \n",
    "a_list.append(\"abcd\")\n",
    "print (\"list append : \", a_list) # [1, 2, 3, \"abcd\"]\n",
    "\n",
    "a_list.insert(1,10)\n",
    "print(\"list list : \", a_list) # [1, 10, 2, 3, \"abcd\"]\n",
    "\n",
    "# list 에 list 추가 \n",
    "a_list.extend(b_list)\n",
    "print(\"list extend : \", a_list) # [1, 10, 2, 3, \"abcd\", 4, 5, 6]\n",
    "\n",
    "# list 요소 변경\n",
    "a_list [3] = \"변경\"\n",
    "print(\"list 변경 : \", a_list) # [1, 10, 2, \"변경\", \"abcd\", 4, 5, 6]\n",
    "\n",
    "# list 요소 삭제 \n",
    "del b_list [1] \n",
    "print(\"b_list del : \", b_list) # [4, 6]\n",
    "a_list.pop(2)\n",
    "print(\"a_list pop : \", a_list) # [1, 10, \"변경\", \"abcd\", 4, 5, 6]\n",
    "a_list.remove(\"abcd\")\n",
    "print(\"a_list remove : \", a_list) # [1, 10, \"변경\", 4, 5, 6]\n",
    "a_list.clear()\n",
    "print(\"a_list clear : \", a_list) # []\n",
    "\n",
    "# 내부 요소 확인\n",
    "print(6 in b_list) # True\n",
    "print(6 not in b_list) #False\n"
   ]
  },
  {
   "cell_type": "code",
   "execution_count": null,
   "id": "c07ccf96",
   "metadata": {},
   "outputs": [],
   "source": [
    "# for 반복문 : for 변수 in 반복 자료 : \n",
    "\n",
    "for i in range(5) :\n",
    "    print(\"i : \", i)\n",
    "\n",
    "a_list = [1, 2, 3, 4, 5]    \n",
    "\n",
    "for element in a_list : \n",
    "    print(\"a_list : {}\".format(element)) \n",
    "    \n",
    "for char in \"hello world!!\" : \n",
    "    print(\"-\", char)"
   ]
  },
  {
   "cell_type": "code",
   "execution_count": null,
   "id": "dcf87faa",
   "metadata": {},
   "outputs": [],
   "source": [
    "list_of_list = [[1, 2, 3], [4, 5, 6, 7], [8, 9]]\n",
    "\n",
    "for sequence in list_of_list : \n",
    "    for sequence_2 in sequence : \n",
    "        print (\"모든 요소를 순차적으로 출력 합니다 : \", sequence_2)"
   ]
  },
  {
   "cell_type": "code",
   "execution_count": null,
   "id": "5070c6f6",
   "metadata": {},
   "outputs": [],
   "source": [
    "# 딕셔너리는 키값을 통해 리스트 요소를 확인할 수 있는 명령어\n",
    "\n",
    "# 딕셔너리 [key][index] : 딕셔너리가 리스트일 경우 키를 입력하고, 리스트(요소인)의 index를 입력해주면 출력이 가능함. \n",
    "\n",
    "# 딕셔너리 선언 방법 \n",
    "# dictionary = {key_1 : value_1, ... , key_n : value_n} -> 중괄호{} 사용 (선언이 아닌 접근 시에는 대괄호[]로 key를 통해 접근)\n",
    "\n",
    "# key 는 '', \"\" 로 정의해주어야 한다. "
   ]
  },
  {
   "cell_type": "code",
   "execution_count": null,
   "id": "034d710d",
   "metadata": {},
   "outputs": [],
   "source": [
    "# 딕셔너리 선언\n",
    "\n",
    "dictionary = {}\n",
    "\n",
    "print(\"요소 추가 이전 : \", dictionary)\n",
    "\n",
    "dictionary[\"name\"] = \"새로운 이름\"\n",
    "dictionary[\"head\"] = \"새로운 정신\"\n",
    "dictionary[\"body\"] = \"새로운 몸\"\n",
    "\n",
    "print(\"요소 추가 이후 : \", dictionary)\n"
   ]
  },
  {
   "cell_type": "code",
   "execution_count": null,
   "id": "5fcab2b5",
   "metadata": {},
   "outputs": [],
   "source": [
    "# del dictionary : dictionary 삭제\n",
    "\n",
    "# 입력을 받아서 dictionary 확인 및 출력 과정\n",
    "\n",
    "dictionary_a = {\n",
    "    \"name\" : \"7D 건조 망고\", \n",
    "    \"type\" : \"당절임\",\n",
    "    \"ingredient\" : [\"망고\", \"설탕\", \"메타중아황산나트륨\", \"치자황색소\"],\n",
    "    \"origin\" : \"필리핀\"\n",
    "}\n",
    "\n",
    "print(dictionary_a)\n",
    "\n",
    "key = input(\"접근 key를 입력하세요 : > \")\n",
    "\n",
    "if key in dictionary_a : \n",
    "    print (dictionary_a[key])\n",
    "    \n",
    "else :\n",
    "    print (\"존재하지 않는 key 입니다.\")\n",
    "    \n",
    "\n",
    "\n"
   ]
  },
  {
   "cell_type": "code",
   "execution_count": null,
   "id": "f5b2cf4a",
   "metadata": {},
   "outputs": [],
   "source": [
    "# for 문을 이용해 전체적인 dictionary 값만 출력하기 \n",
    "\n",
    "dictionary_a = {\n",
    "    \"name\" : \"7D 건조 망고\", \n",
    "    \"type\" : \"당절임\",\n",
    "    \"ingredient\" : [\"망고\", \"설탕\", \"메타중아황산나트륨\", \"치자황색소\"],\n",
    "    \"origin\" : \"필리핀\",\n",
    "    \"items\" : {\"key1\" : \"dic test\", \"value\" : \"dict value\"}\n",
    "}\n",
    "\n",
    "    \n",
    "# dictionary 내부에 리스트 또는 dictionary 가 있는 경우, 각 값들만 출력 해보기 \n",
    "\n",
    "for value_1 in dictionary_a : \n",
    "    if type(dictionary_a[value_1]) == dict : # dict : dictionary 의 type 을 의미함. \n",
    "        for value_sub_1 in dictionary_a[value_1]:\n",
    "            print(\"값들이 디셔너리로 구성되어 있습니다. 값은 : \", dictionary_a[value_1][value_sub_1])\n",
    "            \n",
    "    elif type(dictionary_a[value_1]) == list : # list : list 의 type 을 의미함. \n",
    "        for value_sub_2 in dictionary_a[value_1]: \n",
    "            print(\"값들이 리스트로 구성되어 있습니다. 값은 : \", value_sub_2)\n",
    "    else : \n",
    "        print(dictionary_a[value_1])\n",
    "            \n",
    "    "
   ]
  },
  {
   "cell_type": "code",
   "execution_count": null,
   "id": "3bf6968c",
   "metadata": {},
   "outputs": [],
   "source": [
    "# range 정의 : range(시작값, 끝값, 증가분) -> 내부 수치들은 항상 int로 기입하거나, range 앞에 int를 붙여준다. \n",
    "\n",
    "array = [273, 45, 103, 54, 101]\n",
    "\n",
    "for i in range(len(array)):\n",
    "    print(\"{}번째 데이터 : {}\".format(i, array[i]))\n",
    "\n",
    "# 거꾸로 출력해보기 \n",
    "\n",
    "for i_2 in range(len(array)-1, 0-1, -1):\n",
    "    print(\"{}번째 데이터 : {}\".format(i_2, array[i_2]))\n",
    "    \n",
    "# reversed 함수 이용해 거꾸로 출력해보기\n",
    "print(\"reversed function\")\n",
    "\n",
    "for i_3 in reversed(range(len(array))):\n",
    "    print(\"{}번째 데이터 : {}\".format(i_3, array[i_3]))\n"
   ]
  },
  {
   "cell_type": "code",
   "execution_count": null,
   "id": "1133569d",
   "metadata": {},
   "outputs": [],
   "source": [
    "# while 반복문 활용법\n",
    "\n",
    "# while 표현식 : 표현식이 True이면 실행. \n",
    "\n",
    "while True : \n",
    "    print(\".\") # infinite loop!! need to interupt. \n"
   ]
  },
  {
   "cell_type": "code",
   "execution_count": null,
   "id": "ff757d44",
   "metadata": {},
   "outputs": [],
   "source": [
    "array = [273, 45, 103, 54, 101]\n",
    "\n",
    "i = 0\n",
    "\n",
    "while i < len(array) :\n",
    "    print(\"{}st data : {}\".format(i, array[i]))\n",
    "    i += 1"
   ]
  },
  {
   "cell_type": "code",
   "execution_count": 7,
   "id": "63bd9455",
   "metadata": {},
   "outputs": [
    {
     "name": "stdout",
     "output_type": "stream",
     "text": [
      "문자를 입력하세요. (q를 입력하면 종료됩니다.)2341\n",
      "입력된 값이 숫자인 경우 리스트화되지 않습니다.\n",
      "문자를 입력하세요. (q를 입력하면 종료됩니다.)dfiaf\n",
      "문자를 입력하세요. (q를 입력하면 종료됩니다.)aisdfj\n",
      "문자를 입력하세요. (q를 입력하면 종료됩니다.)gkdka\n",
      "문자를 입력하세요. (q를 입력하면 종료됩니다.)234\n",
      "입력된 값이 숫자인 경우 리스트화되지 않습니다.\n",
      "문자를 입력하세요. (q를 입력하면 종료됩니다.)disdlf\n",
      "문자를 입력하세요. (q를 입력하면 종료됩니다.)q\n",
      "q가 입력되어 종료됩니다. 현재 누적 리스트는 다음과 같습니다. : > ['dfiaf', 'aisdfj', 'gkdka', 'disdlf']\n"
     ]
    }
   ],
   "source": [
    "# 연습문제 : 빈 리스트를 입력 받아 quit이 loop에 입력되는 시점에 각각의 리스트요소 출력 \n",
    "\n",
    "input_data = []\n",
    "\n",
    "while True: \n",
    "    input_str = input(\"문자를 입력하세요. (q를 입력하면 종료됩니다.)\")\n",
    "    \n",
    "    if input_str.isdecimal():\n",
    "        print(\"입력된 값이 숫자인 경우 리스트화되지 않습니다.\")\n",
    "        continue # un do if is true\n",
    "        \n",
    "    elif input_str == \"q\" :\n",
    "        print(\"q가 입력되어 종료됩니다.\", \"현재 누적 리스트는 다음과 같습니다. : >\", input_data)\n",
    "        break\n",
    "        \n",
    "    else : \n",
    "        input_data.append(input_str)\n",
    "    \n",
    "\n",
    "    "
   ]
  },
  {
   "cell_type": "markdown",
   "id": "433e8251",
   "metadata": {},
   "source": []
  },
  {
   "cell_type": "code",
   "execution_count": null,
   "id": "69401790",
   "metadata": {},
   "outputs": [],
   "source": []
  },
  {
   "cell_type": "code",
   "execution_count": null,
   "id": "66d89ad9",
   "metadata": {},
   "outputs": [],
   "source": []
  }
 ],
 "metadata": {
  "kernelspec": {
   "display_name": "Python 3",
   "language": "python",
   "name": "python3"
  },
  "language_info": {
   "codemirror_mode": {
    "name": "ipython",
    "version": 3
   },
   "file_extension": ".py",
   "mimetype": "text/x-python",
   "name": "python",
   "nbconvert_exporter": "python",
   "pygments_lexer": "ipython3",
   "version": "3.8.8"
  }
 },
 "nbformat": 4,
 "nbformat_minor": 5
}
