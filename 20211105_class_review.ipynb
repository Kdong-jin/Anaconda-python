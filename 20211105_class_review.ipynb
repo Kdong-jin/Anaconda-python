{
 "cells": [
  {
   "cell_type": "code",
   "execution_count": 1,
   "id": "515b8e32",
   "metadata": {},
   "outputs": [
    {
     "ename": "SyntaxError",
     "evalue": "invalid syntax (<ipython-input-1-7317bf1ff17e>, line 6)",
     "output_type": "error",
     "traceback": [
      "\u001b[0;36m  File \u001b[0;32m\"<ipython-input-1-7317bf1ff17e>\"\u001b[0;36m, line \u001b[0;32m6\u001b[0m\n\u001b[0;31m    def __init__(self.num1, num2):\u001b[0m\n\u001b[0m                     ^\u001b[0m\n\u001b[0;31mSyntaxError\u001b[0m\u001b[0;31m:\u001b[0m invalid syntax\n"
     ]
    }
   ],
   "source": [
    "# class definition, class create\n",
    "\n",
    "# class class name\n",
    "\n",
    "class Aclass:\n",
    "    def __init__(self.num1, num2):\n",
    "        selfnum1 = num1\n",
    "        selfnum2 = num2\n",
    "        print(\"class create\")\n",
    "    \n",
    "    def get_sum(self):\n",
    "        print(\"class 내부 함수 실행\")\n",
    "        return(self.num1 + self.num2)\n",
    "    \n",
    "a = Aclass(10, 20) # 생성자 => class 내부의 __init__ 함수가 실행\n",
    "print(a.num1, a.num2)\n",
    "\n",
    "b = Aclass(30, 40)\n",
    "print(b.num1, b.num2, b_get_sum())\n",
    "\n",
    "a_list = [a, b]\n",
    "a_list[0].get_sum\n"
   ]
  },
  {
   "cell_type": "code",
   "execution_count": null,
   "id": "e934be18",
   "metadata": {},
   "outputs": [],
   "source": [
    "def input_data():\n",
    "    name = input(\"name : \")"
   ]
  },
  {
   "cell_type": "code",
   "execution_count": 2,
   "id": "dd228491",
   "metadata": {},
   "outputs": [
    {
     "name": "stdout",
     "output_type": "stream",
     "text": [
      "Parent 클레스의 __init()__메서드가 호출되었습니다.\n",
      "Child 클레스의 __init__메서드가 호출되었습니다.\n",
      "Child 클레스의 test() 메서드입니다.\n",
      "test\n"
     ]
    }
   ],
   "source": [
    "# 상속\n",
    "\n",
    "class Parent:\n",
    "    def __init__(self):\n",
    "        self.value = \"test\"\n",
    "        print (\"Parent 클레스의 __init()__메서드가 호출되었습니다.\")\n",
    "    def test(self):\n",
    "        print (\"Parent 클레스의 test() 메서드입니다.\")\n",
    "        \n",
    "# 자식 클래스를 선언합니다. \n",
    "\n",
    "class Child(Parent):\n",
    "    def __init__(self):\n",
    "        Parent.__init__(self)\n",
    "        print(\"Child 클레스의 __init__메서드가 호출되었습니다.\")\n",
    "    def test(self):\n",
    "        print(\"Child 클레스의 test() 메서드입니다.\")\n",
    "    \n",
    "# 자식 클래스의 인스턴스를 생성하고 부모의 메서드를 호출합니다. \n",
    "child = Child() \n",
    "child.test() \n",
    "print(child.value)"
   ]
  },
  {
   "cell_type": "code",
   "execution_count": null,
   "id": "75dbec35",
   "metadata": {},
   "outputs": [],
   "source": []
  }
 ],
 "metadata": {
  "kernelspec": {
   "display_name": "Python 3",
   "language": "python",
   "name": "python3"
  },
  "language_info": {
   "codemirror_mode": {
    "name": "ipython",
    "version": 3
   },
   "file_extension": ".py",
   "mimetype": "text/x-python",
   "name": "python",
   "nbconvert_exporter": "python",
   "pygments_lexer": "ipython3",
   "version": "3.8.8"
  }
 },
 "nbformat": 4,
 "nbformat_minor": 5
}
