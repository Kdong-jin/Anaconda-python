{
 "cells": [
  {
   "cell_type": "code",
   "execution_count": 1,
   "id": "3d0374e7",
   "metadata": {},
   "outputs": [],
   "source": [
    "import pandas as pd"
   ]
  },
  {
   "cell_type": "code",
   "execution_count": 5,
   "id": "e6ab9f4e",
   "metadata": {},
   "outputs": [
    {
     "name": "stdout",
     "output_type": "stream",
     "text": [
      "<class 'pandas.core.series.Series'>\n",
      "a    1\n",
      "b    2\n",
      "c    3\n",
      "dtype: int64\n"
     ]
    }
   ],
   "source": [
    "# series 생성 방법  : pd.Series(dict_data) : key 는 index 값은 value\n",
    "dict_data = {'a':1, 'b':2, 'c':3}\n",
    "\n",
    "s_data = pd.Series(dict_data)\n",
    "print(type(s_data))\n",
    "print(s_data)"
   ]
  },
  {
   "cell_type": "code",
   "execution_count": 7,
   "id": "b2a8bbb5",
   "metadata": {},
   "outputs": [
    {
     "name": "stdout",
     "output_type": "stream",
     "text": [
      "<class 'pandas.core.series.Series'>\n",
      "0    1\n",
      "1    2\n",
      "2    3\n",
      "3    4\n",
      "dtype: int64\n"
     ]
    }
   ],
   "source": [
    "# series 생성 방법 : pd.Series(list) : index 는 0부터 숫자로 생성, value\n",
    "\n",
    "list_data = [1, 2, 3, 4]\n",
    "sl_data = pd.Series(list_data)\n",
    "print(type(sl_data))\n",
    "print(sl_data)"
   ]
  },
  {
   "cell_type": "code",
   "execution_count": null,
   "id": "d2c42ef7",
   "metadata": {},
   "outputs": [],
   "source": []
  }
 ],
 "metadata": {
  "kernelspec": {
   "display_name": "Python 3",
   "language": "python",
   "name": "python3"
  },
  "language_info": {
   "codemirror_mode": {
    "name": "ipython",
    "version": 3
   },
   "file_extension": ".py",
   "mimetype": "text/x-python",
   "name": "python",
   "nbconvert_exporter": "python",
   "pygments_lexer": "ipython3",
   "version": "3.8.8"
  }
 },
 "nbformat": 4,
 "nbformat_minor": 5
}
