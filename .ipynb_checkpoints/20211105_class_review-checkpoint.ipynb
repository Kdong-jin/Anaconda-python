{
 "cells": [
  {
   "cell_type": "code",
   "execution_count": 2,
   "id": "515b8e32",
   "metadata": {},
   "outputs": [
    {
     "ename": "SyntaxError",
     "evalue": "invalid syntax (<ipython-input-2-fddf0eea61ea>, line 6)",
     "output_type": "error",
     "traceback": [
      "\u001b[0;36m  File \u001b[0;32m\"<ipython-input-2-fddf0eea61ea>\"\u001b[0;36m, line \u001b[0;32m6\u001b[0m\n\u001b[0;31m    def __init__(self.num1, num2):\u001b[0m\n\u001b[0m                     ^\u001b[0m\n\u001b[0;31mSyntaxError\u001b[0m\u001b[0;31m:\u001b[0m invalid syntax\n"
     ]
    }
   ],
   "source": [
    "# class definition, class create\n",
    "\n",
    "# class class name\n",
    "\n",
    "class Aclass:\n",
    "    def __init__(self.num1, num2):\n",
    "        selfnum1 = num1\n",
    "        selfnum2 = num2\n",
    "        print(\"class create\")\n",
    "    \n",
    "    def get_sum(self):\n",
    "        print(\"class 내부 함수 실행\")\n",
    "        return(self.num1 + self.num2)\n",
    "    \n",
    "a = Aclass(10, 20) # 생성자 => class 내부의 __init__ 함수가 실행\n",
    "print(a.num1, a.num2)\n",
    "\n",
    "b = Aclass(30, 40)\n",
    "print(b.num1, b.num2, b_get_sum())"
   ]
  },
  {
   "cell_type": "code",
   "execution_count": null,
   "id": "e934be18",
   "metadata": {},
   "outputs": [],
   "source": []
  }
 ],
 "metadata": {
  "kernelspec": {
   "display_name": "Python 3",
   "language": "python",
   "name": "python3"
  },
  "language_info": {
   "codemirror_mode": {
    "name": "ipython",
    "version": 3
   },
   "file_extension": ".py",
   "mimetype": "text/x-python",
   "name": "python",
   "nbconvert_exporter": "python",
   "pygments_lexer": "ipython3",
   "version": "3.8.8"
  }
 },
 "nbformat": 4,
 "nbformat_minor": 5
}
