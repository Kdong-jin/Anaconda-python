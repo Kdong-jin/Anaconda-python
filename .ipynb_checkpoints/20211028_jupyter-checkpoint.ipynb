{
 "cells": [
  {
   "cell_type": "code",
   "execution_count": 1,
   "id": "a361cbda",
   "metadata": {},
   "outputs": [
    {
     "name": "stdout",
     "output_type": "stream",
     "text": [
      "hello world\n"
     ]
    }
   ],
   "source": [
    "print(\"hello world\")"
   ]
  },
  {
   "cell_type": "code",
   "execution_count": null,
   "id": "22553f0a",
   "metadata": {},
   "outputs": [],
   "source": []
  },
  {
   "cell_type": "code",
   "execution_count": 9,
   "id": "268f44b6",
   "metadata": {},
   "outputs": [
    {
     "name": "stdout",
     "output_type": "stream",
     "text": [
      "a=...10...b=...2384...a + b...2394k"
     ]
    }
   ],
   "source": [
    "a = 10 \n",
    "b = 2384\n",
    "a + b\n",
    "print('a=', a, 'b=', b, 'a + b', a + b, sep='...', end='k')"
   ]
  },
  {
   "cell_type": "markdown",
   "id": "0dbcfd3b",
   "metadata": {},
   "source": [
    " - 노트북 파일 확장자 ~.ipynb\n",
    " - 일반 파이썬 확장자 ~.py "
   ]
  },
  {
   "cell_type": "code",
   "execution_count": 7,
   "id": "eea10af5",
   "metadata": {},
   "outputs": [
    {
     "name": "stdout",
     "output_type": "stream",
     "text": [
      "['False', 'None', 'True', 'and', 'as', 'assert', 'async', 'await', 'break', 'class', 'continue', 'def', 'del', 'elif', 'else', 'except', 'finally', 'for', 'from', 'global', 'if', 'import', 'in', 'is', 'lambda', 'nonlocal', 'not', 'or', 'pass', 'raise', 'return', 'try', 'while', 'with', 'yield'] test\n"
     ]
    }
   ],
   "source": [
    "#키워드 출력\n",
    "import keyword\n",
    "print(keyword.kwlist ,'test')"
   ]
  },
  {
   "cell_type": "code",
   "execution_count": 11,
   "id": "590ea68b",
   "metadata": {},
   "outputs": [
    {
     "data": {
      "text/plain": [
       "13"
      ]
     },
     "execution_count": 11,
     "metadata": {},
     "output_type": "execute_result"
    }
   ],
   "source": [
    "#주석 처리 \n",
    "'''주석\n",
    "주석\n",
    "주석'''\n",
    "10+3 # test 10 + 3 "
   ]
  },
  {
   "cell_type": "code",
   "execution_count": null,
   "id": "b8546a27",
   "metadata": {},
   "outputs": [],
   "source": []
  }
 ],
 "metadata": {
  "kernelspec": {
   "display_name": "Python 3",
   "language": "python",
   "name": "python3"
  },
  "language_info": {
   "codemirror_mode": {
    "name": "ipython",
    "version": 3
   },
   "file_extension": ".py",
   "mimetype": "text/x-python",
   "name": "python",
   "nbconvert_exporter": "python",
   "pygments_lexer": "ipython3",
   "version": "3.8.8"
  }
 },
 "nbformat": 4,
 "nbformat_minor": 5
}
