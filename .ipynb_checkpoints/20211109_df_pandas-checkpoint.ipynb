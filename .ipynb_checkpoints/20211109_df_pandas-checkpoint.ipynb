{
 "cells": [
  {
   "cell_type": "code",
   "execution_count": 1,
   "id": "c2b4a618",
   "metadata": {},
   "outputs": [],
   "source": [
    "import seaborn as sns\n",
    "import pandas as pd\n",
    "\n",
    "df = sns.load_dataset('titanic')"
   ]
  },
  {
   "cell_type": "code",
   "execution_count": 2,
   "id": "cd9c4602",
   "metadata": {},
   "outputs": [],
   "source": [
    "df.head() #데이터 확인 후 가져오고자 하는 컬럼 확인 (sex, alive)\n",
    "df_sex = df.loc[:, ['sex', 'alive']]\n",
    "#df_sex.head()"
   ]
  },
  {
   "cell_type": "code",
   "execution_count": null,
   "id": "ef855706",
   "metadata": {},
   "outputs": [],
   "source": [
    "# male의 생존자 수와 사망자수를 구함\n",
    "male_y = df_sex[(df[\"sex\"]=='male')]\n",
    "male_n = df_sex[(df[\"sex\"]=='male')]\n",
    "\n",
    "# female의 생존자 수와 사망자 수를 구함\n"
   ]
  }
 ],
 "metadata": {
  "kernelspec": {
   "display_name": "Python 3",
   "language": "python",
   "name": "python3"
  },
  "language_info": {
   "codemirror_mode": {
    "name": "ipython",
    "version": 3
   },
   "file_extension": ".py",
   "mimetype": "text/x-python",
   "name": "python",
   "nbconvert_exporter": "python",
   "pygments_lexer": "ipython3",
   "version": "3.8.8"
  }
 },
 "nbformat": 4,
 "nbformat_minor": 5
}
