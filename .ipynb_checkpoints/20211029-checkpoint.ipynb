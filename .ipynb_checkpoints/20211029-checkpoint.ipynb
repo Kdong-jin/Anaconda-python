{
 "cells": [
  {
   "cell_type": "code",
   "execution_count": null,
   "id": "fc227a35",
   "metadata": {},
   "outputs": [],
   "source": [
    "# 키보드 부터 입력을 받아 해당 문자열을 출력하고 길이를 구하세요. \n",
    "\n",
    "str_1 = input(\"임의의 문자열을 입력해주세요 >\")\n",
    "\n",
    "print(\"문자열의 길이는 : \", len(str_1))\n",
    "\n"
   ]
  },
  {
   "cell_type": "code",
   "execution_count": null,
   "id": "f1f411ed",
   "metadata": {},
   "outputs": [],
   "source": [
    "# format : {}에 값을 대입함\n",
    "\n",
    "str_1 = input(\"임의의 문자열을 입력해주세요 >\")\n",
    "\n",
    "\n",
    "print(\"{}\".format(10))\n",
    "print(\"입력 받은 문자 : {} 문자열의 길이는 : {}\".format(str_1, len(str_1)))\n"
   ]
  },
  {
   "cell_type": "code",
   "execution_count": null,
   "id": "76971597",
   "metadata": {},
   "outputs": [],
   "source": [
    "#정수 자릿수 지정하기 {:.d} 숫자만 있을 경우, 그 숫자만큼 공간을 두고 자릿수 표시 \n",
    "\n",
    "num_1 = 52\n",
    "\n",
    "print(\"{:d}\" .format(num_1))\n",
    "print(\"{:5d}\" .format(num_1))\n",
    "print(\"{:05d}\" .format(num_1))\n",
    "print(\"{:05d}\" .format(num_1*-1))\n",
    "print(\"{:5d}\" .format(num_1*-1))\n",
    "\n",
    "#부호 붙이기\n",
    "\n",
    "print(\"{:+d}\".format(num_1))\n",
    "print(\"{.d}\".format(num_1))\n"
   ]
  },
  {
   "cell_type": "code",
   "execution_count": null,
   "id": "e050fa91",
   "metadata": {},
   "outputs": [],
   "source": [
    "# 조합하기 \n",
    "\n",
    "num_1 = 52\n",
    "\n",
    "print(\"{:+5d}\".format(num_1))\n",
    "print(\"{:+5d}\".format(num_1*-1))\n",
    "print(\"{:=+5d}\".format(num_1))\n",
    "print(\"{:=+5d}\".format(num_1*-1))\n",
    "print(\"{:=+05d}\".format(num_1))\n",
    "print(\"{:=+05d}\".format(num_1*-1))"
   ]
  },
  {
   "cell_type": "code",
   "execution_count": null,
   "id": "0b34a3ed",
   "metadata": {},
   "outputs": [],
   "source": [
    "# 부동 소수점 출력 {:f}\n",
    "\n",
    "num_f = 52.384\n",
    "\n",
    "print(\"{:f}\".format(num_f))\n",
    "print(\"{:10f}\".format(num_f))\n",
    "print(\"{:+15f}\".format(num_f))\n",
    "\n",
    "# 소수점 미만 표현 자리수 지정\n",
    "\n",
    "print(\"{:15.3f}\".format(num_f)) # 전체 표현 자리수는 15, 소수점 미만 3자리\n",
    "\n",
    "# 의미없는 소수점 제거하기\n",
    "print(\"{:g}\".format(10.0))\n",
    "\n"
   ]
  },
  {
   "cell_type": "code",
   "execution_count": null,
   "id": "c9929ce8",
   "metadata": {},
   "outputs": [],
   "source": [
    "# upper(), lower() 함수\n",
    "\n",
    "str_a = \"    Hello World!!    \"\n",
    "\n",
    "print(str_a.upper()) # 대문자로\n",
    "print(str_a.lower()) # 소문자로\n",
    "print(str_a.rstrip()) # 오른쪽 공백 제거\n",
    "print(str_a.lstrip()) # 왼쪽 공백 제거\n",
    "\n",
    "# 소문자로 바꿔서 공백 제거\n",
    "\n",
    "# str.a.lower().strip().upper()\n",
    "\n"
   ]
  },
  {
   "cell_type": "code",
   "execution_count": null,
   "id": "21d4a740",
   "metadata": {},
   "outputs": [],
   "source": [
    "# 문자열 구성 파악하기 is함수명()\n",
    "print(\"Translate\".isalnum()) #True\n",
    "print(\"10\".isdigit()) # True\n",
    "print(\"3 a port\".isidentifier()) #False\n",
    "\n"
   ]
  },
  {
   "cell_type": "code",
   "execution_count": null,
   "id": "6da801e7",
   "metadata": {},
   "outputs": [],
   "source": [
    "#find(), rfind() : 찾고자 하는 문자열의 위치 변환\n",
    "\n",
    "input_str = \"abcd hellohello python\" #처음 나오는 hello를 추출해서 출력\n",
    "start_p = input_str.find(\"hello\")\n",
    "end_p = input_str.rfind(\"hello\")\n",
    "\n",
    "print(\"start point : {}, end point : {}, {}\".format(start_p, end_p, input_str[start_p : end_p]))\n",
    "\n",
    "#마지막 위치의 hello 부터 뒤에 있는 문자 모두 출력\n",
    "print(input_str[end_p:])"
   ]
  },
  {
   "cell_type": "code",
   "execution_count": null,
   "id": "f5ba53c6",
   "metadata": {},
   "outputs": [],
   "source": [
    "# 키보드에서 공백 포함해서 문자열을 입력 받아 \n",
    "# 처음 공백이 나오는 위치까지의 문자만 출력 abcd test => 출력\n",
    "\n",
    "input_str_ex = \"hello hello2 hello3\"\n",
    "\n",
    "start_p = input_str_ex.find(\"/\")\n",
    "\n",
    "print(\"처음 공백의 위치는 : {} \".format(start_p))\n",
    "print(\"처음 공백까지의 문자 정보는 : {} > \".format(start_p[0:start_p])\n",
    "      \n",
    "\n"
   ]
  },
  {
   "cell_type": "code",
   "execution_count": null,
   "id": "256353a4",
   "metadata": {},
   "outputs": [],
   "source": [
    "# 문자열 자르기 문자열 spilt()\n",
    "\n",
    "a_str = \"10 20 30 40 test abcd\"\n",
    "print(a_str.split())\n",
    "b_str = \"10,20.30.test.abcd\"\n",
    "print(b_str.split(\".\"))\n",
    "\n"
   ]
  },
  {
   "cell_type": "code",
   "execution_count": null,
   "id": "bd51b045",
   "metadata": {},
   "outputs": [],
   "source": [
    "# 키보드로부터 테이터를 입력받아 공백으로 데이터를 분리하고\n",
    "# 2번째 입력된 자료를 출력하세요. \n",
    "# abcd test c 10 30 => 테스트 출력\n",
    "\n",
    "input_str = input(\"input data!! : > \")\n",
    "input_split = input_str.split()\n",
    "print(input_str, \"\\t second data\", input_split[0])"
   ]
  },
  {
   "cell_type": "code",
   "execution_count": null,
   "id": "99fabc7d",
   "metadata": {},
   "outputs": [],
   "source": [
    "# and or not == != > < <= >= \n",
    "\n",
    "a = 10 ; b = 20\n",
    "print(a==b) # False\n",
    "print(a!=b) # True\n",
    "print(a>b) # False\n",
    "print(a<b) # True\n",
    "print(a>=b) # False\n",
    "print(a<=b) # True\n"
   ]
  },
  {
   "cell_type": "code",
   "execution_count": null,
   "id": "91a68efa",
   "metadata": {},
   "outputs": [],
   "source": [
    "# if 조건식 : => 조건식에 연관된 것은 들여쓰기하여 처리한다. \n",
    "\n",
    "if True : \n",
    "    print(\"if 문장 실행\") # 실행됨. \n",
    "\n",
    "if False : \n",
    "    print(\"if false 실행\") # 실행되지 않음. \n",
    "\n",
    "        "
   ]
  },
  {
   "cell_type": "code",
   "execution_count": null,
   "id": "5a8fb980",
   "metadata": {},
   "outputs": [],
   "source": [
    "\n",
    "# 정수를 입력 받아 10보다 작으면 입력된 값 출력\n",
    "# 1. 정수 입력을 받음. \n",
    "# 2. 숫자인지 확인 isnumeric() or isdecimal\n",
    "# 3. 숫자이면 문자를 숫자로 변경\n",
    "# 4. 10보다 작으면 출력 \n",
    "\n",
    "digit_1 = input(\"숫자를 입력하세요 >\")\n",
    "\n",
    "if digit_1.isdecimal():\n",
    "    digit_1 = int(digit_1)\n",
    "    if digit_1 < 10 : \n",
    "        print(\"input number : {:+5d} \".format(digit_1))\n",
    "\n",
    "print(\"end\")\n",
    "    "
   ]
  },
  {
   "cell_type": "code",
   "execution_count": null,
   "id": "5358b9e4",
   "metadata": {},
   "outputs": [],
   "source": [
    "# 숫자를 입력 받아 실수로 변환한 후, \n",
    "# 0보다 크면, 양수, 작으면 음수 0이면 zero를 출력 하세요. \n",
    "\n",
    "num_1 = input(\"input number : >\") \n",
    "# input으로 입력되는 값은 모두 기본적으로 문자열이므로, 이를 int 또는 float으로 숫자 값으로 변경 필수\n",
    "\n",
    "if not num_1.isdecimal():\n",
    "    print(\"입력된 데이터는 숫자가 아닙니다. 다시 입력해주세요.\")\n",
    "    input(\"input number : >\")\n",
    "\n",
    "num_2 = int(num_1)\n",
    "\n",
    "if num_2 < 0 : \n",
    "    print (\"입력된 수는 음수입니다.\")\n",
    "\n",
    "if num_2 > 0 : \n",
    "    print (\"입력된 수는 양수입니다.\")\n",
    "\n",
    "if num_2 == 0 : \n",
    "    print (\"입력된 수는 0입니다.\")\n",
    "    \n",
    "\n"
   ]
  },
  {
   "cell_type": "code",
   "execution_count": null,
   "id": "65392f9a",
   "metadata": {},
   "outputs": [],
   "source": [
    "# 날짜 / 시간 활용하기  \n",
    "\n",
    "import datetime # 모듈을 먼저 가져오고나서 다음 함수들을 진행해야 한다. "
   ]
  },
  {
   "cell_type": "code",
   "execution_count": null,
   "id": "82e32074",
   "metadata": {},
   "outputs": [],
   "source": [
    "now = datetime.datetime.now()\n",
    "\n",
    "print(\"{}년 {}월 {}일 {}시 {}분\".format(now.year, now.month, now.day, now.hour, now.minute))"
   ]
  },
  {
   "cell_type": "code",
   "execution_count": null,
   "id": "71d4dd6e",
   "metadata": {},
   "outputs": [],
   "source": [
    "# 정수 입력 받아 짝수인지 확인 후, 마지막 입력된 숫자가 0, 2, 4, 6, 8\n",
    "\n",
    "input_num = input(\"정수를 입력하세요 :> \")\n",
    "last_char = input_num[-1]\n",
    "last_num = int(last_char) \n",
    "if last_num == 0 or last_num == 2 or last_num == 4 or last_num == 6 or last_num == 8 : \n",
    "    print (\"짝수 입니다.\")\n",
    "    \n",
    "if last_num == 1 or last_num == 3 or last_num == 5 or last_num == 7 or last_num == 9 :\n",
    "    print (\"홀수 입니다.\")\n",
    "    \n",
    "if last_char in \"02468\" : \n",
    "    print(\"짝수 입니다.\")\n",
    "if last_char in \"13579\" : \n",
    "    print(\"홀수 입니다.\")\n"
   ]
  },
  {
   "cell_type": "code",
   "execution_count": null,
   "id": "9856119a",
   "metadata": {},
   "outputs": [],
   "source": [
    "# 홀수 짝수 다시 고려하여 if 함수 적용\n",
    "\n",
    "input_num = int(input(\"정수를 입력하세요\"))\n",
    "\n",
    "if input_num % 2 != 0 : \n",
    "    print (\"홀수 입니다.\")\n",
    "    \n",
    "else :\n",
    "    print (\"짝수 입니다.\")\n",
    "    \n"
   ]
  },
  {
   "cell_type": "code",
   "execution_count": null,
   "id": "06b24256",
   "metadata": {},
   "outputs": [],
   "source": [
    "# 1. 두 개의 숫자를 입력 받아 작은 수 부터 출력 \n",
    "# 2. 작은 수와 큰 수가 각각에 대하여\n",
    "# 3. 3의 배수이면, '3의 배수', 아니면 '3의 배수가 아닙니다.' 출력하도록 \n",
    "\n",
    "num_1 = int(input(\"첫 번째 수를 입력하세요. >\"))\n",
    "num_2 = int(input(\"두 번째 수를 입력하세요. >\"))\n",
    "            \n",
    "if num_1 > num_2:\n",
    "    print (\"{}, {}\".format(num_2, num_1))\n",
    "            \n",
    "else :\n",
    "    print (\"{}, {}\".format(num_1, num_2))\n",
    "\n",
    "    \n",
    "if num_1 % 3 == 0 : \n",
    "    print (\"{}는 3의 배수입니다.\".format(num_1))\n",
    "if num_2 % 3 == 0 :\n",
    "    print (\"{}는 3의 배수입니다.\".format(num_2))\n",
    "if num_1 % 3 != 0 : \n",
    "    print (\"{}는 3의 배수가 아닙니다.\".format(num_1))\n",
    "if num_2 % 3 != 0 : \n",
    "    print (\"{}는 3의 배수가 아닙니다.\".format(num_2))\n",
    "\n",
    "            \n",
    "\n"
   ]
  },
  {
   "cell_type": "code",
   "execution_count": null,
   "id": "09bb308a",
   "metadata": {},
   "outputs": [],
   "source": [
    "#if x > 10:\n",
    "    #if x < 20:\n",
    "        #print(\"조건에 맞습니다.\")\n",
    "\n",
    "x = 10\n",
    "\n",
    "if 10 < x < 20:\n",
    "    print(\"조건에 맞습니다.\")\n",
    "else :\n",
    "    print(\"조건에 맞지 않습니다.\")\n",
    "        "
   ]
  },
  {
   "cell_type": "code",
   "execution_count": null,
   "id": "f2251cdc",
   "metadata": {},
   "outputs": [],
   "source": [
    "# 날짜, 함수에서 월을 추출해서 현재의 계절을 출력\n",
    "\n",
    "\n",
    "import datetime\n",
    "\n",
    "now = datetime.datetime.now() #모듈명이며, 클래스임. \n",
    "\n",
    "print(now)\n",
    "\n",
    "if 2 < now.month <= 5: \n",
    "    print(\"봄\")\n",
    "elif 5 < now.month <= 8:\n",
    "    print(\"여름\")\n",
    "elif 8 < now.month <= 11:\n",
    "    print(\"가을\")\n",
    "else :\n",
    "    print(\"겨울\")\n",
    "\n",
    "    "
   ]
  },
  {
   "cell_type": "code",
   "execution_count": null,
   "id": "bd5bd31f",
   "metadata": {},
   "outputs": [],
   "source": [
    "# 숫자 부호를 입력 받아 계산하는 프로그램 작성\n",
    "# 10 + 20, 10 - 20, 10 \n",
    "# 10 + 20 = 30 과 유사하게 출력\n",
    "\n",
    "number_1 = int(input(\"첫 번째 숫자를 입력하세요 : >\"))\n",
    "number_2 = int(input(\"두 번째 숫자를 입력하세요 : >\"))\n",
    "cal = input(\"계산을 원하는 연산 기호를 입력하세요 \")\n",
    "\n",
    "print(\"입력받은 숫자는 {}와 {}입니다.\".format(number_1, number_2))\n",
    "\n",
    "if cal == \"+\" : \n",
    "    print(number_1 + number_2)\n",
    "elif cal == \"-\" : \n",
    "    print(number_1 - number_2)\n",
    "elif cal == \"*\" : \n",
    "    print(number_1 * number_2)\n",
    "else : \n",
    "    print(number_1 / number_2)\n",
    "\n"
   ]
  },
  {
   "cell_type": "code",
   "execution_count": null,
   "id": "c03b2a2e",
   "metadata": {},
   "outputs": [],
   "source": [
    "# 리스트 선언하고 요소에 접근하기 \n",
    "# list 는 여러 개의 데이터 집합 변수명 = [  ,   ,   ,   ,  ,   , ]\n",
    "# list.append(요소), list.insert(위치, 요소)\n",
    "\n",
    "a_list = [1, 2, 3]\n",
    "b_list = [\"a\", \"b\", \"c\"]\n",
    "\n",
    "print (\"a_list + b_list :\", a_list + b_list)\n",
    "print (\"a_list*3 : \", a_list*3)\n",
    "\n",
    "a_list.append(b_list) # 마지막에 b_list 추가 \n",
    "print(a_list)\n",
    "\n",
    "a_list.insert(1,b_list)\n",
    "print(a_list)"
   ]
  },
  {
   "cell_type": "code",
   "execution_count": 8,
   "id": "1dd86ebe",
   "metadata": {},
   "outputs": [
    {
     "name": "stdout",
     "output_type": "stream",
     "text": [
      "[1, 2, 3, ['test', 'abcd']]\n",
      "abcd\n",
      "['name', 'test', 'abcd']\n",
      "[1, 'change', 3, ['name', 'test', 'abcd']]\n",
      "[1, 'change', 3, ['name', 'test', 'abcd']] ['name', 'test', 'abcd']\n"
     ]
    }
   ],
   "source": [
    "# a_list = [1, 2, 3], b_list = [\"tset\", \"abcd\"]\n",
    "\n",
    "a_list = [1, 2, 3]\n",
    "b_list = [\"test\", \"abcd\"]\n",
    "\n",
    "# a_list 에 b_list를 추가하세요\n",
    "\n",
    "a_list.append(b_list)\n",
    "\n",
    "print(a_list)\n",
    "\n",
    "# b_list 에서 \"abcd\"를 출력 하세요.\n",
    "\n",
    "print(b_list[1])\n",
    "\n",
    "# b_list 앞에 name을 추가 하세요. \n",
    "\n",
    "b_list.insert(0, \"name\")\n",
    "print(b_list)\n",
    "\n",
    "# a_list의 두번째 요소를 \"change\"로 변경하세요. \n",
    "\n",
    "a_list[1] = \"change\"\n",
    "print(a_list)\n",
    "\n",
    "# a_list와 b_list를 출력해보세요. \n",
    "\n",
    "print(a_list, b_list)\n"
   ]
  },
  {
   "cell_type": "code",
<<<<<<< HEAD
   "execution_count": 2,
   "id": "99fabc7d",
=======
   "execution_count": null,
   "id": "134e8175",
   "metadata": {},
   "outputs": [],
   "source": []
  },
  {
   "cell_type": "code",
   "execution_count": null,
   "id": "0db9a9a0",
>>>>>>> 9a1e40f0c94aab5a6db69f0f4620483d170e746b
   "metadata": {},
   "outputs": [
    {
     "name": "stdout",
     "output_type": "stream",
     "text": [
      "False\n",
      "True\n",
      "False\n",
      "True\n",
      "False\n",
      "True\n"
     ]
    }
   ],
   "source": [
    "# and or not == != > < <= >= \n",
    "\n",
    "a = 10 ; b = 20\n",
    "print(a==b) # False\n",
    "print(a!=b) # True\n",
    "print(a>b) # False\n",
    "print(a<b) # True\n",
    "print(a>=b) # False\n",
    "print(a<=b) # True\n"
   ]
  },
  {
   "cell_type": "code",
   "execution_count": 3,
   "id": "5c2cadc4",
   "metadata": {},
   "outputs": [
    {
     "name": "stdout",
     "output_type": "stream",
     "text": [
      "if 문장 실행\n"
     ]
    }
   ],
   "source": [
    "# if 조건식 : => 조건식에 연관된 것은 들여쓰기하여 처리한다. \n",
    "\n",
    "if True : \n",
    "    print(\"if 문장 실행\") # 실행됨. \n",
    "\n",
    "if False : \n",
    "    print(\"if false 실행\") # 실행되지 않음. \n",
    "\n",
    "        "
   ]
  },
  {
   "cell_type": "code",
   "execution_count": 22,
   "id": "92356248",
   "metadata": {},
   "outputs": [
    {
     "name": "stdout",
     "output_type": "stream",
     "text": [
      "숫자를 입력하세요 >2\n",
      "input number :    +2 \n",
      "end\n"
     ]
    }
   ],
   "source": [
    "\n",
    "# 정수를 입력 받아 10보다 작으면 입력된 값 출력\n",
    "# 1. 정수 입력을 받음. \n",
    "# 2. 숫자인지 확인 isnumeric() or isdecimal\n",
    "# 3. 숫자이면 문자를 숫자로 변경\n",
    "# 4. 10보다 작으면 출력 \n",
    "\n",
    "digit_1 = input(\"숫자를 입력하세요 >\")\n",
    "\n",
    "if digit_1.isdecimal():\n",
    "    digit_1 = int(digit_1)\n",
    "    if digit_1 < 10 : \n",
    "        print(\"input number : {:+5d} \".format(digit_1))\n",
    "\n",
    "print(\"end\")\n",
    "    "
   ]
  },
  {
   "cell_type": "code",
   "execution_count": 25,
   "id": "66d4e63d",
   "metadata": {},
   "outputs": [
    {
     "name": "stdout",
     "output_type": "stream",
     "text": [
      "input number : >문자\n",
      "입력된 데이터는 숫자가 아닙니다. 다시 입력해주세요.\n",
      "input number : >123\n"
     ]
    },
    {
     "ename": "ValueError",
     "evalue": "invalid literal for int() with base 10: '문자'",
     "output_type": "error",
     "traceback": [
      "\u001b[0;31m---------------------------------------------------------------------------\u001b[0m",
      "\u001b[0;31mValueError\u001b[0m                                Traceback (most recent call last)",
      "\u001b[0;32m<ipython-input-25-4d3215a43c57>\u001b[0m in \u001b[0;36m<module>\u001b[0;34m\u001b[0m\n\u001b[1;32m      9\u001b[0m     \u001b[0minput\u001b[0m\u001b[0;34m(\u001b[0m\u001b[0;34m\"input number : >\"\u001b[0m\u001b[0;34m)\u001b[0m\u001b[0;34m\u001b[0m\u001b[0;34m\u001b[0m\u001b[0m\n\u001b[1;32m     10\u001b[0m \u001b[0;34m\u001b[0m\u001b[0m\n\u001b[0;32m---> 11\u001b[0;31m \u001b[0mnum_1\u001b[0m \u001b[0;34m=\u001b[0m \u001b[0mint\u001b[0m\u001b[0;34m(\u001b[0m\u001b[0mnum_1\u001b[0m\u001b[0;34m)\u001b[0m\u001b[0;34m\u001b[0m\u001b[0;34m\u001b[0m\u001b[0m\n\u001b[0m\u001b[1;32m     12\u001b[0m \u001b[0;34m\u001b[0m\u001b[0m\n\u001b[1;32m     13\u001b[0m \u001b[0;32mif\u001b[0m \u001b[0mnum_1\u001b[0m \u001b[0;34m<\u001b[0m \u001b[0;36m0\u001b[0m \u001b[0;34m:\u001b[0m\u001b[0;34m\u001b[0m\u001b[0;34m\u001b[0m\u001b[0m\n",
      "\u001b[0;31mValueError\u001b[0m: invalid literal for int() with base 10: '문자'"
     ]
    }
   ],
   "source": [
    "# 숫자를 입력 받아 실수로 변환한 후, \n",
    "# 0보다 크면, 양수, 작으면 음수 0이면 zero를 출력 하세요. \n",
    "\n",
    "num_1 = input(\"input number : >\") \n",
    "# input으로 입력되는 값은 모두 기본적으로 문자열이므로, 이를 int 또는 float으로 숫자 값으로 변경 필수\n",
    "\n",
    "if not num_1.isdecimal():\n",
    "    print(\"입력된 데이터는 숫자가 아닙니다. 다시 입력해주세요.\")\n",
    "    input(\"input number : >\")\n",
    "\n",
    "num_2 = int(num_1)\n",
    "\n",
    "if num_2 < 0 : \n",
    "    print (\"입력된 수는 음수입니다.\")\n",
    "\n",
    "if num_2 > 0 : \n",
    "    print (\"입력된 수는 양수입니다.\")\n",
    "\n",
    "if num_2 == 0 : \n",
    "    print (\"입력된 수는 0입니다.\")\n",
    "    \n",
    "\n"
   ]
  },
  {
   "cell_type": "code",
   "execution_count": null,
   "id": "aa641a37",
   "metadata": {},
   "outputs": [],
   "source": []
  },
  {
   "cell_type": "code",
   "execution_count": null,
   "id": "a5d637ad",
   "metadata": {},
   "outputs": [],
   "source": []
  },
  {
   "cell_type": "code",
   "execution_count": null,
   "id": "a0c5c326",
   "metadata": {},
   "outputs": [],
   "source": []
  }
 ],
 "metadata": {
  "kernelspec": {
   "display_name": "Python 3",
   "language": "python",
   "name": "python3"
  },
  "language_info": {
   "codemirror_mode": {
    "name": "ipython",
    "version": 3
   },
   "file_extension": ".py",
   "mimetype": "text/x-python",
   "name": "python",
   "nbconvert_exporter": "python",
   "pygments_lexer": "ipython3",
   "version": "3.8.8"
  }
 },
 "nbformat": 4,
 "nbformat_minor": 5
}
