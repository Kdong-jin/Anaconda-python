{
 "cells": [
  {
   "cell_type": "code",
   "execution_count": 1,
   "id": "f0ed771b",
   "metadata": {},
   "outputs": [],
   "source": [
    "# 기존 수업 review\n",
    "# 리스트와 반복문 진행 완료 \n",
    "# 리스트는 여러 데이터를 순차적으로 나열하여 저장할 수 있는 데이터 타입임. \n",
    "# append, insert, in, not in, for \n",
    "# 문자, 숫자, bullean -> 이를 묶어둔 것이 list\n",
    "# 리스트를 우선 선언하고, 리스트 활용\n",
    "# insert (position, elements)\n",
    "# extend 와 append 의 차이점 \n",
    "# : append는 추가 시, 하나의 요소로 추가\n",
    "# : extend는 각각의 요소를 리스트로써 추가 \n",
    "# del, pop, remove, clear 로 리스트 및 요소 삭제 \n",
    "# del 리스트명, 리스트명.pop(index), 리스트.clear(index), 리스트.remove(index)"
   ]
  },
  {
   "cell_type": "code",
   "execution_count": 6,
   "id": "a996ee76",
   "metadata": {},
   "outputs": [
    {
     "name": "stdout",
     "output_type": "stream",
     "text": [
      "list append :  [1, 2, 3, 'abcd']\n",
      "list list :  [1, 10, 2, 3, 'abcd']\n",
      "list extend :  [1, 10, 2, 3, 'abcd', 4, 5, 6]\n",
      "list 변경 :  [1, 10, 2, '변경', 'abcd', 4, 5, 6]\n",
      "b_list del :  [4, 6]\n",
      "a_list pop :  [1, 10, '변경', 'abcd', 4, 5, 6]\n",
      "a_list remove :  [1, 10, '변경', 4, 5, 6]\n",
      "a_list clear :  []\n",
      "True\n",
      "False\n"
     ]
    }
   ],
   "source": [
    "# 리스트 요소 추가 및 제거, 변경\n",
    "\n",
    "a_list = [1, 2, 3]\n",
    "b_list = [4, 5, 6]\n",
    "\n",
    "# list 요소 추가 \n",
    "a_list.append(\"abcd\")\n",
    "print (\"list append : \", a_list) # [1, 2, 3, \"abcd\"]\n",
    "\n",
    "a_list.insert(1,10)\n",
    "print(\"list list : \", a_list) # [1, 10, 2, 3, \"abcd\"]\n",
    "\n",
    "# list 에 list 추가 \n",
    "a_list.extend(b_list)\n",
    "print(\"list extend : \", a_list) # [1, 10, 2, 3, \"abcd\", 4, 5, 6]\n",
    "\n",
    "# list 요소 변경\n",
    "a_list [3] = \"변경\"\n",
    "print(\"list 변경 : \", a_list) # [1, 10, 2, \"변경\", \"abcd\", 4, 5, 6]\n",
    "\n",
    "# list 요소 삭제 \n",
    "del b_list [1] \n",
    "print(\"b_list del : \", b_list) # [4, 6]\n",
    "a_list.pop(2)\n",
    "print(\"a_list pop : \", a_list) # [1, 10, \"변경\", \"abcd\", 4, 5, 6]\n",
    "a_list.remove(\"abcd\")\n",
    "print(\"a_list remove : \", a_list) # [1, 10, \"변경\", 4, 5, 6]\n",
    "a_list.clear()\n",
    "print(\"a_list clear : \", a_list) # []\n",
    "\n",
    "# 내부 요소 확인\n",
    "print(6 in b_list) # True\n",
    "print(6 not in b_list) #False\n"
   ]
  },
  {
   "cell_type": "code",
   "execution_count": 12,
   "id": "2583d5af",
   "metadata": {},
   "outputs": [
    {
     "name": "stdout",
     "output_type": "stream",
     "text": [
      "i :  0\n",
      "i :  1\n",
      "i :  2\n",
      "i :  3\n",
      "i :  4\n",
      "a_list : 1\n",
      "a_list : 2\n",
      "a_list : 3\n",
      "a_list : 4\n",
      "a_list : 5\n",
      "- h\n",
      "- e\n",
      "- l\n",
      "- l\n",
      "- o\n",
      "-  \n",
      "- w\n",
      "- o\n",
      "- r\n",
      "- l\n",
      "- d\n",
      "- !\n",
      "- !\n"
     ]
    }
   ],
   "source": [
    "# for 반복문 : for 변수 in 반복 자료 : \n",
    "\n",
    "for i in range(5) :\n",
    "    print(\"i : \", i)\n",
    "\n",
    "a_list = [1, 2, 3, 4, 5]    \n",
    "\n",
    "for element in a_list : \n",
    "    print(\"a_list : {}\".format(element)) \n",
    "    \n",
    "for char in \"hello world!!\" : \n",
    "    print(\"-\", char)"
   ]
  },
  {
   "cell_type": "code",
   "execution_count": null,
   "id": "8988bbdf",
   "metadata": {},
   "outputs": [],
   "source": []
  },
  {
   "cell_type": "code",
   "execution_count": null,
   "id": "3c8c64d3",
   "metadata": {},
   "outputs": [],
   "source": []
  },
  {
   "cell_type": "code",
   "execution_count": null,
   "id": "29c02bc9",
   "metadata": {},
   "outputs": [],
   "source": []
  }
 ],
 "metadata": {
  "kernelspec": {
   "display_name": "Python 3",
   "language": "python",
   "name": "python3"
  },
  "language_info": {
   "codemirror_mode": {
    "name": "ipython",
    "version": 3
   },
   "file_extension": ".py",
   "mimetype": "text/x-python",
   "name": "python",
   "nbconvert_exporter": "python",
   "pygments_lexer": "ipython3",
   "version": "3.8.8"
  }
 },
 "nbformat": 4,
 "nbformat_minor": 5
}
