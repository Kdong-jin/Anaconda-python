{
 "cells": [
  {
   "cell_type": "code",
   "execution_count": null,
   "id": "d25a6954",
   "metadata": {},
   "outputs": [],
   "source": [
    "# python 의 데이터 타입  : 문자, 숫자, 불리언\n",
    "# 자료를 모아 두고 사용하는 데이터 : list \n",
    "a_list = [1, 'abcd', [1, 2, 3], 'test']\n",
    "# list 에 접근하는 방법\n",
    "# -> index 첨자로 접근하는 방법 a_list : a_list[1:3] == 1번부터 3번까지의 리스트 요소를 가져올 수 있도록 하는 명령어\n",
    "# method related to list : a_list.append(element), a_list.extend(list)()\n",
    "\n",
    "# 키와 값을 저장하는 데이터 : dictionary \n",
    "# b = {'a':10, 'b',20}\n",
    "# dictionary 에 접근하는 방뻐 => b[key], b['c'] = 'abcd'\n",
    "# dictionary data delet : del b[key], b.clear (모든 자료 삭제)\n",
    "\n",
    "# file(HD에 저장된)로 접근하는 방법\n",
    "#=> fp = open (file명, 모드) : 파일명은 경로 포함, 모드 w, r, a, w+, a+...\n",
    "# text = 'abcd' => text 내용을 파일 저장 fp write(text) => fp.close (text)"
   ]
  },
  {
   "cell_type": "code",
   "execution_count": null,
   "id": "404fe660",
   "metadata": {},
   "outputs": [],
   "source": [
    "b = {'a':10, 'b':20}\n",
    "a_list = [1, 'abcd', [1, 2, 3], 'test']\n"
   ]
  },
  {
   "cell_type": "code",
   "execution_count": 2,
   "id": "5e2aa8ac",
   "metadata": {},
   "outputs": [
    {
     "name": "stdout",
     "output_type": "stream",
     "text": [
      "end :  5050\n",
      "b :  495550\n"
     ]
    }
   ],
   "source": [
    "# 함수 : 정의 부분과 실행하는 부분으로 구분\n",
    "# 정의 : 함수를 작성하면서 기능을 구현\n",
    "# def function() : \n",
    "# 실행 : 함수명 () -> 실행\n",
    "\n",
    "# start_num 부터 end_num 까지 의 모든 수의 합을 구하는 함수 정의 \n",
    "\n",
    "def num_total(start_no, end_no): \n",
    "    total = 0 \n",
    "    for num in range(start_no, end_no + 1):\n",
    "        total += num\n",
    "    return total\n",
    "\n",
    "#함수를 호출하는 부분 \n",
    "a = num_total(1, 100)\n",
    "print(\"end : \", a)\n",
    "\n",
    "b = num_total(100, 1000)\n",
    "print(\"b : \", b)"
   ]
  },
  {
   "cell_type": "code",
   "execution_count": null,
   "id": "52b60342",
   "metadata": {},
   "outputs": [],
   "source": []
  },
  {
   "cell_type": "code",
   "execution_count": null,
   "id": "b4feea7d",
   "metadata": {},
   "outputs": [],
   "source": []
  }
 ],
 "metadata": {
  "kernelspec": {
   "display_name": "Python 3",
   "language": "python",
   "name": "python3"
  },
  "language_info": {
   "codemirror_mode": {
    "name": "ipython",
    "version": 3
   },
   "file_extension": ".py",
   "mimetype": "text/x-python",
   "name": "python",
   "nbconvert_exporter": "python",
   "pygments_lexer": "ipython3",
   "version": "3.8.8"
  }
 },
 "nbformat": 4,
 "nbformat_minor": 5
}
