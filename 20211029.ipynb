{
 "cells": [
  {
   "cell_type": "code",
   "execution_count": null,
   "id": "fc227a35",
   "metadata": {},
   "outputs": [],
   "source": [
    "# 키보드 부터 입력을 받아 해당 문자열을 출력하고 길이를 구하세요. \n",
    "\n",
    "str_1 = input(\"임의의 문자열을 입력해주세요 >\")\n",
    "\n",
    "print(\"문자열의 길이는 : \", len(str_1))\n",
    "\n"
   ]
  },
  {
   "cell_type": "code",
   "execution_count": null,
   "id": "f1f411ed",
   "metadata": {},
   "outputs": [],
   "source": [
    "# format : {}에 값을 대입함\n",
    "\n",
    "str_1 = input(\"임의의 문자열을 입력해주세요 >\")\n",
    "\n",
    "\n",
    "print(\"{}\".format(10))\n",
    "print(\"입력 받은 문자 : {} 문자열의 길이는 : {}\".format(str_1, len(str_1)))\n"
   ]
  },
  {
   "cell_type": "code",
   "execution_count": null,
   "id": "76971597",
   "metadata": {},
   "outputs": [],
   "source": [
    "#정수 자릿수 지정하기 {:.d} 숫자만 있을 경우, 그 숫자만큼 공간을 두고 자릿수 표시 \n",
    "\n",
    "num_1 = 52\n",
    "\n",
    "print(\"{:d}\" .format(num_1))\n",
    "print(\"{:5d}\" .format(num_1))\n",
    "print(\"{:05d}\" .format(num_1))\n",
    "print(\"{:05d}\" .format(num_1*-1))\n",
    "print(\"{:5d}\" .format(num_1*-1))\n",
    "\n",
    "#부호 붙이기\n",
    "\n",
    "print(\"{:+d}\".format(num_1))\n",
    "print(\"{.d}\".format(num_1))\n"
   ]
  },
  {
   "cell_type": "code",
   "execution_count": null,
   "id": "e050fa91",
   "metadata": {},
   "outputs": [],
   "source": [
    "# 조합하기 \n",
    "\n",
    "num_1 = 52\n",
    "\n",
    "print(\"{:+5d}\".format(num_1))\n",
    "print(\"{:+5d}\".format(num_1*-1))\n",
    "print(\"{:=+5d}\".format(num_1))\n",
    "print(\"{:=+5d}\".format(num_1*-1))\n",
    "print(\"{:=+05d}\".format(num_1))\n",
    "print(\"{:=+05d}\".format(num_1*-1))"
   ]
  },
  {
   "cell_type": "code",
   "execution_count": null,
   "id": "0b34a3ed",
   "metadata": {},
   "outputs": [],
   "source": [
    "# 부동 소수점 출력 {:f}\n",
    "\n",
    "num_f = 52.384\n",
    "\n",
    "print(\"{:f}\".format(num_f))\n",
    "print(\"{:10f}\".format(num_f))\n",
    "print(\"{:+15f}\".format(num_f))\n",
    "\n",
    "# 소수점 미만 표현 자리수 지정\n",
    "\n",
    "print(\"{:15.3f}\".format(num_f)) # 전체 표현 자리수는 15, 소수점 미만 3자리\n",
    "\n",
    "# 의미없는 소수점 제거하기\n",
    "print(\"{:g}\".format(10.0))\n",
    "\n"
   ]
  },
  {
   "cell_type": "code",
   "execution_count": null,
   "id": "c9929ce8",
   "metadata": {},
   "outputs": [],
   "source": [
    "# upper(), lower() 함수\n",
    "\n",
    "str_a = \"    Hello World!!    \"\n",
    "\n",
    "print(str_a.upper()) # 대문자로\n",
    "print(str_a.lower()) # 소문자로\n",
    "print(str_a.rstrip()) # 오른쪽 공백 제거\n",
    "print(str_a.lstrip()) # 왼쪽 공백 제거\n",
    "\n",
    "# 소문자로 바꿔서 공백 제거\n",
    "\n",
    "# str.a.lower().strip().upper()\n",
    "\n"
   ]
  },
  {
   "cell_type": "code",
   "execution_count": null,
   "id": "21d4a740",
   "metadata": {},
   "outputs": [],
   "source": [
    "# 문자열 구성 파악하기 is함수명()\n",
    "print(\"Translate\".isalnum()) #True\n",
    "print(\"10\".isdigit()) # True\n",
    "print(\"3 a port\".isidentifier()) #False\n",
    "\n"
   ]
  },
  {
   "cell_type": "code",
   "execution_count": null,
   "id": "6da801e7",
   "metadata": {},
   "outputs": [],
   "source": [
    "#find(), rfind() : 찾고자 하는 문자열의 위치 변환\n",
    "\n",
    "input_str = \"abcd hellohello python\" #처음 나오는 hello를 추출해서 출력\n",
    "start_p = input_str.find(\"hello\")\n",
    "end_p = input_str.rfind(\"hello\")\n",
    "\n",
    "print(\"start point : {}, end point : {}, {}\".format(start_p, end_p, input_str[start_p : end_p]))\n",
    "\n",
    "#마지막 위치의 hello 부터 뒤에 있는 문자 모두 출력\n",
    "print(input_str[end_p:])"
   ]
  },
  {
   "cell_type": "code",
   "execution_count": null,
   "id": "f5ba53c6",
   "metadata": {},
   "outputs": [],
   "source": [
    "# 키보드에서 공백 포함해서 문자열을 입력 받아 \n",
    "# 처음 공백이 나오는 위치까지의 문자만 출력 abcd test => 출력\n",
    "\n",
    "input_str_ex = \"hello hello2 hello3\"\n",
    "\n",
    "start_p = input_str_ex.find(\"/\")\n",
    "\n",
    "print(\"처음 공백의 위치는 : {} \".format(start_p))\n",
    "print(\"처음 공백까지의 문자 정보는 : {} > \".format(start_p[0:start_p])\n",
    "      \n",
    "\n"
   ]
  },
  {
   "cell_type": "code",
   "execution_count": null,
   "id": "256353a4",
   "metadata": {},
   "outputs": [],
   "source": [
    "# 문자열 자르기 문자열 spilt()\n",
    "\n",
    "a_str = \"10 20 30 40 test abcd\"\n",
    "print(a_str.split())\n",
    "b_str = \"10,20.30.test.abcd\"\n",
    "print(b_str.split(\".\"))\n",
    "\n"
   ]
  },
  {
   "cell_type": "code",
   "execution_count": 4,
   "id": "bd51b045",
   "metadata": {},
   "outputs": [
    {
     "name": "stdout",
     "output_type": "stream",
     "text": [
      "input data!! : > abcd test c 10 30\n",
      "abcd test c 10 30 \t second data abcd\n"
     ]
    }
   ],
   "source": [
    "# 키보드로부터 테이터를 입력받아 공백으로 데이터를 분리하고\n",
    "# 2번째 입력된 자료를 출력하세요. \n",
    "# abcd test c 10 30 => 테스트 출력\n",
    "\n",
    "input_str = input(\"input data!! : > \")\n",
    "input_split = input_str.split()\n",
    "print(input_str, \"\\t second data\", input_split[0])"
   ]
  },
  {
   "cell_type": "code",
   "execution_count": null,
   "id": "99fabc7d",
   "metadata": {},
   "outputs": [],
   "source": [
    "# and or not == != > < <= >= \n",
    "\n",
    "a = 10\n",
    "b = 20\n",
    "print(a==b) # False\n",
    "print(a!=b) # True\n",
    "print(a>b) # False\n",
    "print(a<b) # \n",
    "print(a>=b)\n",
    "print(a<=b)"
   ]
  }
 ],
 "metadata": {
  "kernelspec": {
   "display_name": "Python 3",
   "language": "python",
   "name": "python3"
  },
  "language_info": {
   "codemirror_mode": {
    "name": "ipython",
    "version": 3
   },
   "file_extension": ".py",
   "mimetype": "text/x-python",
   "name": "python",
   "nbconvert_exporter": "python",
   "pygments_lexer": "ipython3",
   "version": "3.8.8"
  }
 },
 "nbformat": 4,
 "nbformat_minor": 5
}
