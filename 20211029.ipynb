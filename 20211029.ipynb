{
 "cells": [
  {
   "cell_type": "code",
   "execution_count": null,
   "id": "fc227a35",
   "metadata": {},
   "outputs": [],
   "source": [
    "# 키보드 부터 입력을 받아 해당 문자열을 출력하고 길이를 구하세요. \n",
    "\n",
    "str_1 = input(\"임의의 문자열을 입력해주세요 >\")\n",
    "\n",
    "print(\"문자열의 길이는 : \", len(str_1))\n",
    "\n"
   ]
  },
  {
   "cell_type": "code",
   "execution_count": null,
   "id": "f1f411ed",
   "metadata": {},
   "outputs": [],
   "source": [
    "# format : {}에 값을 대입함\n",
    "\n",
    "str_1 = input(\"임의의 문자열을 입력해주세요 >\")\n",
    "\n",
    "\n",
    "print(\"{}\".format(10))\n",
    "print(\"입력 받은 문자 : {} 문자열의 길이는 : {}\".format(str_1, len(str_1)))\n"
   ]
  },
  {
   "cell_type": "code",
   "execution_count": null,
   "id": "76971597",
   "metadata": {},
   "outputs": [],
   "source": [
    "#정수 자릿수 지정하기 {:.d} 숫자만 있을 경우, 그 숫자만큼 공간을 두고 자릿수 표시 \n",
    "\n",
    "num_1 = 52\n",
    "\n",
    "print(\"{:d}\" .format(num_1))\n",
    "print(\"{:5d}\" .format(num_1))\n",
    "print(\"{:05d}\" .format(num_1))\n",
    "print(\"{:05d}\" .format(num_1*-1))\n",
    "print(\"{:5d}\" .format(num_1*-1))\n",
    "\n",
    "#부호 붙이기\n",
    "\n",
    "print(\"{:+d}\".format(num_1))\n",
    "print(\"{.d}\".format(num_1))\n"
   ]
  },
  {
   "cell_type": "code",
   "execution_count": null,
   "id": "e050fa91",
   "metadata": {},
   "outputs": [],
   "source": [
    "# 조합하기 \n",
    "\n",
    "num_1 = 52\n",
    "\n",
    "print(\"{:+5d}\".format(num_1))\n",
    "print(\"{:+5d}\".format(num_1*-1))\n",
    "print(\"{:=+5d}\".format(num_1))\n",
    "print(\"{:=+5d}\".format(num_1*-1))\n",
    "print(\"{:=+05d}\".format(num_1))\n",
    "print(\"{:=+05d}\".format(num_1*-1))"
   ]
  },
  {
   "cell_type": "code",
   "execution_count": null,
   "id": "0b34a3ed",
   "metadata": {},
   "outputs": [],
   "source": [
    "# 부동 소수점 출력 {:f}\n",
    "\n",
    "num_f = 52.384\n",
    "\n",
    "print(\"{:f}\".format(num_f))\n",
    "print(\"{:10f}\".format(num_f))\n",
    "print(\"{:+15f}\".format(num_f))\n",
    "\n",
    "# 소수점 미만 표현 자리수 지정\n",
    "\n",
    "print(\"{:15.3f}\".format(num_f)) # 전체 표현 자리수는 15, 소수점 미만 3자리\n",
    "\n",
    "# 의미없는 소수점 제거하기\n",
    "print(\"{:g}\".format(10.0))\n",
    "\n"
   ]
  },
  {
   "cell_type": "code",
   "execution_count": null,
   "id": "c9929ce8",
   "metadata": {},
   "outputs": [],
   "source": [
    "# upper(), lower() 함수\n",
    "\n",
    "str_a = \"    Hello World!!    \"\n",
    "\n",
    "print(str_a.upper()) # 대문자로\n",
    "print(str_a.lower()) # 소문자로\n",
    "print(str_a.rstrip()) # 오른쪽 공백 제거\n",
    "print(str_a.lstrip()) # 왼쪽 공백 제거\n",
    "\n",
    "# 소문자로 바꿔서 공백 제거\n",
    "\n",
    "# str.a.lower().strip().upper()\n",
    "\n"
   ]
  },
  {
   "cell_type": "code",
   "execution_count": null,
   "id": "21d4a740",
   "metadata": {},
   "outputs": [],
   "source": [
    "# 문자열 구성 파악하기 is함수명()\n",
    "print(\"Translate\".isalnum()) #True\n",
    "print(\"10\".isdigit()) # True\n",
    "print(\"3 a port\".isidentifier()) #False\n",
    "\n"
   ]
  },
  {
   "cell_type": "code",
   "execution_count": null,
   "id": "6da801e7",
   "metadata": {},
   "outputs": [],
   "source": [
    "#find(), rfind() : 찾고자 하는 문자열의 위치 변환\n",
    "\n",
    "input_str = \"abcd hellohello python\" #처음 나오는 hello를 추출해서 출력\n",
    "start_p = input_str.find(\"hello\")\n",
    "end_p = input_str.rfind(\"hello\")\n",
    "\n",
    "print(\"start point : {}, end point : {}, {}\".format(start_p, end_p, input_str[start_p : end_p]))\n",
    "\n",
    "#마지막 위치의 hello 부터 뒤에 있는 문자 모두 출력\n",
    "print(input_str[end_p:])"
   ]
  },
  {
   "cell_type": "code",
   "execution_count": null,
   "id": "f5ba53c6",
   "metadata": {},
   "outputs": [],
   "source": [
    "# 키보드에서 공백 포함해서 문자열을 입력 받아 \n",
    "# 처음 공백이 나오는 위치까지의 문자만 출력 abcd test => 출력\n",
    "\n",
    "input_str_ex = \"hello hello2 hello3\"\n",
    "\n",
    "start_p = input_str_ex.find(\"/\")\n",
    "\n",
    "print(\"처음 공백의 위치는 : {} \".format(start_p))\n",
    "print(\"처음 공백까지의 문자 정보는 : {} > \".format(start_p[0:start_p])\n",
    "      \n",
    "\n"
   ]
  },
  {
   "cell_type": "code",
   "execution_count": null,
   "id": "256353a4",
   "metadata": {},
   "outputs": [],
   "source": [
    "# 문자열 자르기 문자열 spilt()\n",
    "\n",
    "a_str = \"10 20 30 40 test abcd\"\n",
    "print(a_str.split())\n",
    "b_str = \"10,20.30.test.abcd\"\n",
    "print(b_str.split(\".\"))\n",
    "\n"
   ]
  },
  {
   "cell_type": "code",
   "execution_count": null,
   "id": "bd51b045",
   "metadata": {},
   "outputs": [],
   "source": [
    "# 키보드로부터 테이터를 입력받아 공백으로 데이터를 분리하고\n",
    "# 2번째 입력된 자료를 출력하세요. \n",
    "# abcd test c 10 30 => 테스트 출력\n",
    "\n",
    "input_str = input(\"input data!! : > \")\n",
    "input_split = input_str.split()\n",
    "print(input_str, \"\\t second data\", input_split[0])"
   ]
  },
  {
   "cell_type": "code",
   "execution_count": null,
   "id": "99fabc7d",
   "metadata": {},
   "outputs": [],
   "source": [
    "# and or not == != > < <= >= \n",
    "\n",
    "a = 10 ; b = 20\n",
    "print(a==b) # False\n",
    "print(a!=b) # True\n",
    "print(a>b) # False\n",
    "print(a<b) # True\n",
    "print(a>=b) # False\n",
    "print(a<=b) # True\n"
   ]
  },
  {
   "cell_type": "code",
   "execution_count": null,
   "id": "91a68efa",
   "metadata": {},
   "outputs": [],
   "source": [
    "# if 조건식 : => 조건식에 연관된 것은 들여쓰기하여 처리한다. \n",
    "\n",
    "if True : \n",
    "    print(\"if 문장 실행\") # 실행됨. \n",
    "\n",
    "if False : \n",
    "    print(\"if false 실행\") # 실행되지 않음. \n",
    "\n",
    "        "
   ]
  },
  {
   "cell_type": "code",
   "execution_count": null,
   "id": "5a8fb980",
   "metadata": {},
   "outputs": [],
   "source": [
    "\n",
    "# 정수를 입력 받아 10보다 작으면 입력된 값 출력\n",
    "# 1. 정수 입력을 받음. \n",
    "# 2. 숫자인지 확인 isnumeric() or isdecimal\n",
    "# 3. 숫자이면 문자를 숫자로 변경\n",
    "# 4. 10보다 작으면 출력 \n",
    "\n",
    "digit_1 = input(\"숫자를 입력하세요 >\")\n",
    "\n",
    "if digit_1.isdecimal():\n",
    "    digit_1 = int(digit_1)\n",
    "    if digit_1 < 10 : \n",
    "        print(\"input number : {:+5d} \".format(digit_1))\n",
    "\n",
    "print(\"end\")\n",
    "    "
   ]
  },
  {
   "cell_type": "code",
   "execution_count": null,
   "id": "5358b9e4",
   "metadata": {},
   "outputs": [],
   "source": [
    "# 숫자를 입력 받아 실수로 변환한 후, \n",
    "# 0보다 크면, 양수, 작으면 음수 0이면 zero를 출력 하세요. \n",
    "\n",
    "num_1 = input(\"input number : >\") \n",
    "# input으로 입력되는 값은 모두 기본적으로 문자열이므로, 이를 int 또는 float으로 숫자 값으로 변경 필수\n",
    "\n",
    "if not num_1.isdecimal():\n",
    "    print(\"입력된 데이터는 숫자가 아닙니다. 다시 입력해주세요.\")\n",
    "    input(\"input number : >\")\n",
    "\n",
    "num_2 = int(num_1)\n",
    "\n",
    "if num_2 < 0 : \n",
    "    print (\"입력된 수는 음수입니다.\")\n",
    "\n",
    "if num_2 > 0 : \n",
    "    print (\"입력된 수는 양수입니다.\")\n",
    "\n",
    "if num_2 == 0 : \n",
    "    print (\"입력된 수는 0입니다.\")\n",
    "    \n",
    "\n"
   ]
  },
  {
   "cell_type": "code",
   "execution_count": 2,
   "id": "65392f9a",
   "metadata": {},
   "outputs": [],
   "source": [
    "# 날짜 / 시간 활용하기  \n",
    "\n",
    "import datetime # 모듈을 먼저 가져오고나서 다음 함수들을 진행해야 한다. "
   ]
  },
  {
   "cell_type": "code",
   "execution_count": 5,
   "id": "82e32074",
   "metadata": {},
   "outputs": [
    {
     "name": "stdout",
     "output_type": "stream",
     "text": [
      "2021년 10월 29일 14시 10분\n"
     ]
    }
   ],
   "source": [
    "now = datetime.datetime.now()\n",
    "\n",
    "print(\"{}년 {}월 {}일 {}시 {}분\".format(now.year, now.month, now.day, now.hour, now.minute))"
   ]
  },
  {
   "cell_type": "code",
   "execution_count": 6,
   "id": "71d4dd6e",
   "metadata": {},
   "outputs": [
    {
     "name": "stdout",
     "output_type": "stream",
     "text": [
      "정수를 입력하세요 :> 31234\n",
      "짝수 입니다.\n"
     ]
    }
   ],
   "source": [
    "# 정수 입력 받아 짝수인지 확인 후, 마지막 입력된 숫자가 0, 2, 4, 6, 8\n",
    "\n",
    "input_num = input(\"정수를 입력하세요 :> \")\n",
    "last_char = input_num[-1]\n",
    "last_num = int(last_char) \n",
    "if last_num == 0 or last_num == 2 or last_num == 4 or last_num == 6 or last_num == 8 : \n",
    "    print (\"짝수 입니다.\")\n",
    "    \n",
    "if last_num == 1 or last_num == 3 or last_num == 5 or last_num == 7 or last_num == 9 :\n",
    "    print (\"홀수 입니다.\")\n",
    "    \n",
    "    \n"
   ]
  },
  {
   "cell_type": "code",
   "execution_count": 11,
   "id": "e1a0ee67",
   "metadata": {},
   "outputs": [
    {
     "name": "stdout",
     "output_type": "stream",
     "text": [
      "정수를 입력하세요3453462\n",
      "짝수 입니다.\n"
     ]
    }
   ],
   "source": [
    "# 홀수 짝수 다시 고려하여 if 함수 적용\n",
    "\n",
    "input_num = int(input(\"정수를 입력하세요\"))\n",
    "\n",
    "if input_num % 2 != 0 : \n",
    "    print (\"홀수 입니다.\")\n",
    "    \n",
    "else :\n",
    "    print (\"짝수 입니다.\")\n",
    "    \n"
   ]
  },
  {
   "cell_type": "code",
   "execution_count": null,
   "id": "59c9a358",
   "metadata": {},
   "outputs": [],
   "source": []
  }
 ],
 "metadata": {
  "kernelspec": {
   "display_name": "Python 3",
   "language": "python",
   "name": "python3"
  },
  "language_info": {
   "codemirror_mode": {
    "name": "ipython",
    "version": 3
   },
   "file_extension": ".py",
   "mimetype": "text/x-python",
   "name": "python",
   "nbconvert_exporter": "python",
   "pygments_lexer": "ipython3",
   "version": "3.8.8"
  }
 },
 "nbformat": 4,
 "nbformat_minor": 5
}
