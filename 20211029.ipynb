{
 "cells": [
  {
   "cell_type": "code",
   "execution_count": null,
   "id": "fc227a35",
   "metadata": {},
   "outputs": [],
   "source": [
    "# 키보드 부터 입력을 받아 해당 문자열을 출력하고 길이를 구하세요. \n",
    "\n",
    "str_1 = input(\"임의의 문자열을 입력해주세요 >\")\n",
    "\n",
    "print(\"문자열의 길이는 : \", len(str_1))\n",
    "\n"
   ]
  },
  {
   "cell_type": "code",
   "execution_count": null,
   "id": "c8400291",
   "metadata": {},
   "outputs": [],
   "source": [
    "# format : {}에 값을 대입함\n",
    "\n",
    "str_1 = input(\"임의의 문자열을 입력해주세요 >\")\n",
    "\n",
    "\n",
    "print(\"{}\".format(10))\n",
    "print(\"입력 받은 문자 : {} 문자열의 길이는 : {}\".format(str_1, len(str_1)))\n"
   ]
  },
  {
   "cell_type": "code",
   "execution_count": null,
   "id": "59f884e6",
   "metadata": {},
   "outputs": [],
   "source": [
    "#정수 자릿수 지정하기 {:.d} 숫자만 있을 경우, 그 숫자만큼 공간을 두고 자릿수 표시 \n",
    "\n",
    "num_1 = 52\n",
    "\n",
    "print(\"{:d}\" .format(num_1))\n",
    "print(\"{:5d}\" .format(num_1))\n",
    "print(\"{:05d}\" .format(num_1))\n",
    "print(\"{:05d}\" .format(num_1*-1))\n",
    "print(\"{:5d}\" .format(num_1*-1))\n",
    "\n",
    "#부호 붙이기\n",
    "\n",
    "print(\"{:+d}\".format(num_1))\n",
    "print(\"{.d}\".format(num_1))\n"
   ]
  },
  {
   "cell_type": "code",
   "execution_count": 5,
   "id": "0633235c",
   "metadata": {},
   "outputs": [
    {
     "name": "stdout",
     "output_type": "stream",
     "text": [
      "  +52\n",
      "  -52\n",
      "+  52\n",
      "-  52\n",
      "+0052\n",
      "-0052\n"
     ]
    }
   ],
   "source": [
    "# 조합하기 \n",
    "\n",
    "num_1 = 52\n",
    "\n",
    "print(\"{:+5d}\".format(num_1))\n",
    "print(\"{:+5d}\".format(num_1*-1))\n",
    "print(\"{:=+5d}\".format(num_1))\n",
    "print(\"{:=+5d}\".format(num_1*-1))\n",
    "print(\"{:=+05d}\".format(num_1))\n",
    "print(\"{:=+05d}\".format(num_1*-1))"
   ]
  },
  {
   "cell_type": "code",
   "execution_count": null,
   "id": "20f0807d",
   "metadata": {},
   "outputs": [],
   "source": []
  }
 ],
 "metadata": {
  "kernelspec": {
   "display_name": "Python 3",
   "language": "python",
   "name": "python3"
  },
  "language_info": {
   "codemirror_mode": {
    "name": "ipython",
    "version": 3
   },
   "file_extension": ".py",
   "mimetype": "text/x-python",
   "name": "python",
   "nbconvert_exporter": "python",
   "pygments_lexer": "ipython3",
   "version": "3.8.8"
  }
 },
 "nbformat": 4,
 "nbformat_minor": 5
}
