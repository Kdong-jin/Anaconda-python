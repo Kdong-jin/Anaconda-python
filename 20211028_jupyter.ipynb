{
 "cells": [
  {
   "cell_type": "code",
   "execution_count": 1,
   "id": "a361cbda",
   "metadata": {},
   "outputs": [
    {
     "name": "stdout",
     "output_type": "stream",
     "text": [
      "hello world\n"
     ]
    }
   ],
   "source": [
    "print(\"hello world\")"
   ]
  },
  {
   "cell_type": "code",
   "execution_count": null,
   "id": "c3b0b381",
   "metadata": {},
   "outputs": [],
   "source": []
  },
  {
   "cell_type": "code",
   "execution_count": 9,
   "id": "268f44b6",
   "metadata": {},
   "outputs": [
    {
     "name": "stdout",
     "output_type": "stream",
     "text": [
      "a=...10...b=...2384...a + b...2394k"
     ]
    }
   ],
   "source": [
    "a = 10 \n",
    "b = 2384\n",
    "a + b\n",
    "print('a=', a, 'b=', b, 'a + b', a + b, sep='...', end='k')"
   ]
  },
  {
   "cell_type": "markdown",
   "id": "f2197920",
   "metadata": {},
   "source": [
    " - 노트북 파일 확장자 ~.ipynb\n",
    " - 일반 파이썬 확장자 ~.py "
   ]
  },
  {
   "cell_type": "code",
   "execution_count": 7,
   "id": "fb72be7e",
   "metadata": {},
   "outputs": [
    {
     "name": "stdout",
     "output_type": "stream",
     "text": [
      "['False', 'None', 'True', 'and', 'as', 'assert', 'async', 'await', 'break', 'class', 'continue', 'def', 'del', 'elif', 'else', 'except', 'finally', 'for', 'from', 'global', 'if', 'import', 'in', 'is', 'lambda', 'nonlocal', 'not', 'or', 'pass', 'raise', 'return', 'try', 'while', 'with', 'yield'] test\n"
     ]
    }
   ],
   "source": [
    "#키워드 출력\n",
    "import keyword\n",
    "print(keyword.kwlist ,'test')"
   ]
  },
  {
   "cell_type": "code",
   "execution_count": 11,
   "id": "c99c880d",
   "metadata": {},
   "outputs": [
    {
     "data": {
      "text/plain": [
       "13"
      ]
     },
     "execution_count": 11,
     "metadata": {},
     "output_type": "execute_result"
    }
   ],
   "source": [
    "#주석 처리 \n",
    "'''주석\n",
    "주석\n",
    "주석'''\n",
    "10+3 # test 10 + 3 "
   ]
  },
  {
   "cell_type": "code",
   "execution_count": 12,
   "id": "fa37d449",
   "metadata": {},
   "outputs": [
    {
     "name": "stdout",
     "output_type": "stream",
     "text": [
      "#하나만 출력합니다.\n",
      "Hello Python Programming...!\n",
      "\n",
      "#여러 개를 출력합니다.\n",
      "안녕하세요 저의 이름은 김동진입니다.\n",
      "\n",
      "#아무 것도 출력하지 않습니다.\n",
      "---확인 전용선---\n",
      "\n",
      "\n",
      "---확인 전용선---\n"
     ]
    }
   ],
   "source": [
    "# print() prac. \n",
    "# 하나만 출력 합니다. \n",
    "print(\"#하나만 출력합니다.\")\n",
    "print(\"Hello Python Programming...!\")\n",
    "print()\n",
    "\n",
    "#여러 개를 출력합니다. \n",
    "print(\"#여러 개를 출력합니다.\")\n",
    "print(\"안녕하세요\",\"저의\",\"이름은\",\"김동진입니다.\")\n",
    "print()\n",
    "    \n",
    "#아무 것도 입력하지 않으면 단순하게 줄바꿈합니다.\n",
    "print(\"#아무 것도 출력하지 않습니다.\")\n",
    "print(\"---확인 전용선---\")\n",
    "print()\n",
    "print()\n",
    "print(\"---확인 전용선---\")\n"
   ]
  },
  {
   "cell_type": "code",
   "execution_count": null,
   "id": "0dc3deb0",
   "metadata": {},
   "outputs": [],
   "source": []
  }
 ],
 "metadata": {
  "kernelspec": {
   "display_name": "Python 3",
   "language": "python",
   "name": "python3"
  },
  "language_info": {
   "codemirror_mode": {
    "name": "ipython",
    "version": 3
   },
   "file_extension": ".py",
   "mimetype": "text/x-python",
   "name": "python",
   "nbconvert_exporter": "python",
   "pygments_lexer": "ipython3",
   "version": "3.8.8"
  }
 },
 "nbformat": 4,
 "nbformat_minor": 5
}
