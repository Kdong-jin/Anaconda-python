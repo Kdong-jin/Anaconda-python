{
 "cells": [
  {
   "cell_type": "code",
   "execution_count": null,
   "id": "a361cbda",
   "metadata": {},
   "outputs": [],
   "source": [
    "print(\"hello world\")"
   ]
  },
  {
   "cell_type": "code",
   "execution_count": null,
   "id": "439e8864",
   "metadata": {},
   "outputs": [],
   "source": []
  },
  {
   "cell_type": "code",
   "execution_count": null,
   "id": "268f44b6",
   "metadata": {},
   "outputs": [],
   "source": [
    "a = 10 \n",
    "b = 2384\n",
    "a + b\n",
    "print('a=', a, 'b=', b, 'a + b', a + b, sep='...', end='k')"
   ]
  },
  {
   "cell_type": "markdown",
   "id": "88573463",
   "metadata": {},
   "source": [
    " - 노트북 파일 확장자 ~.ipynb\n",
    " - 일반 파이썬 확장자 ~.py "
   ]
  },
  {
   "cell_type": "code",
   "execution_count": null,
   "id": "a349c23a",
   "metadata": {},
   "outputs": [],
   "source": [
    "#키워드 출력\n",
    "import keyword\n",
    "print(keyword.kwlist ,'test')"
   ]
  },
  {
   "cell_type": "code",
   "execution_count": null,
   "id": "357bc366",
   "metadata": {},
   "outputs": [],
   "source": [
    "#주석 처리 \n",
    "'''주석\n",
    "주석\n",
    "주석'''\n",
    "10+3 # test 10 + 3 "
   ]
  },
  {
   "cell_type": "code",
   "execution_count": null,
   "id": "73112c8e",
   "metadata": {},
   "outputs": [],
   "source": [
    "# print() prac. \n",
    "# 하나만 출력 합니다. \n",
    "print(\"#하나만 출력합니다.\")\n",
    "print(\"Hello Python Programming...!\")\n",
    "print()\n",
    "\n",
    "#여러 개를 출력합니다. \n",
    "print(\"#여러 개를 출력합니다.\")\n",
    "print(\"10, 20, 30, 40, 50\")\n",
    "print(\"안녕하세요\",\"저의\",\"이름은\",\"김동진입니다.\")\n",
    "print()\n",
    "    \n",
    "#아무 것도 입력하지 않으면 단순하게 줄바꿈합니다.\n",
    "print(\"#아무 것도 출력하지 않습니다.\")\n",
    "print(\"---확인 전용선---\")\n",
    "print()\n",
    "print()\n",
    "print(\"---확인 전용선---\")\n"
   ]
  },
  {
   "cell_type": "code",
   "execution_count": null,
   "id": "f993e947",
   "metadata": {},
   "outputs": [],
   "source": [
    "# 특수 문자 출력 \n",
    "print (\"\\t 안녕하세요 \\t ~~~\")"
   ]
  },
  {
   "cell_type": "code",
   "execution_count": null,
   "id": "ea81631c",
   "metadata": {},
   "outputs": [],
   "source": [
    "# 연습문제 \n",
    "print (\"이름 \\t 나이 \\t 지역\")\n",
    "print (\"윤인성 \\t 25 \\t 강서구\")\n",
    "print (\"윤아린 \\t 24 \\t 강서구\")\n",
    "print (\"구름 \\t 3 \\t 강서구\\\\\")"
   ]
  },
  {
   "cell_type": "code",
   "execution_count": null,
   "id": "9d0a85c8",
   "metadata": {},
   "outputs": [],
   "source": [
    "#여러 라인의 문자열 만들기 \n",
    "print(\"동해물과 \\n백두산이 \\n마르고 \\n닳도톡 \\n하느님이 \")\n",
    "print('''동해물과\n",
    "백두산이\n",
    "마르고\n",
    "닳도톡\n",
    "하느님이 ''')\n",
    "print(\"\"\"동해물과\n",
    "백두산이\n",
    "마르고\n",
    "닳도톡\n",
    "하느님이\"\"\")\n",
    "print(\"a_str\")"
   ]
  },
  {
   "cell_type": "code",
   "execution_count": null,
   "id": "f5bd252a",
   "metadata": {},
   "outputs": [],
   "source": [
    "#문자열 연산자 '+', '*'\n",
    "#문자열 + 문자열 => 문자열 이어 붙이기 \n",
    "#문자열 * 숫자 => 문자열 숫자만큼 반복\n",
    "print(\"안녕\"+\"하세요\")\n",
    "print(3*\"안녕하세요\")\n",
    "print(\"안녕하세요\"*3)"
   ]
  },
  {
   "cell_type": "code",
   "execution_count": null,
   "id": "8fd809aa",
   "metadata": {},
   "outputs": [],
   "source": [
    "#문자열 index 및 slice => str[0] : 0번지 값, str[start : end]\n",
    "str = \"안녕하세요\"\n",
    "print(str)\n",
    "print(str[0],str[2]) #안 하\n",
    "print(str[-1], str[-5]) #요 안 \"특히나 -1은 데이터 수집을 위해 많이 쓰임\"\n",
    "print(str[1:4]) #녕하세\n",
    "# print(str[5]) => index out of range\n",
    "# len 함수는 문자열의 길이를 구하는 함수. \n",
    "print(len(str))"
   ]
  },
  {
   "cell_type": "code",
   "execution_count": null,
   "id": "257ae9df",
   "metadata": {},
   "outputs": [],
   "source": [
    "# str = \"임의의 문자열을 넣으세요\"\n",
    "# str의 길이를 구해서 처음 문자를 -index로 구해서 출력하세요 \n",
    "\n",
    "str = \"this time will be great to me\" \n",
    "print(str[0],\":\",str[-len(str)])\n",
    "str_len = len(str)\n",
    "print(str[-str_len])\n"
   ]
  },
  {
   "cell_type": "code",
   "execution_count": null,
   "id": "f5a76041",
   "metadata": {},
   "outputs": [],
   "source": [
    "# 숫자 : 정수, 실수\n",
    "# 연산자 : +, -, *, /, //(몫), %(나머지), **(거듭제곱)\n",
    "# 연산 시, ()를 이용해서 우선순위 결정 가능\n",
    "# 다음 레이어 대신 ; 을 이용해서 동일한 결과 출력 가능\n",
    "print(\"10 + 5 : \", 10 + 5)\n",
    "print(\"10 - 5 : \", 10 - 5)\n",
    "print(\"10 * 5 : \", 10 * 5)\n",
    "print(\"10 / 5 : \", 10 / 5); print(\"10 // 5 : \", 10 // 5)\n",
    "print(\"10 % 5 : \", 10 % 5); print(\"10 ** 5 : \", 10 ** 5)"
   ]
  },
  {
   "cell_type": "code",
   "execution_count": null,
   "id": "240c17ec",
   "metadata": {},
   "outputs": [],
   "source": [
    "# 변수 : 값을 저장하는 공간\n",
    "pi = 3.14\n",
    "\n",
    "print(pi + 2)\n",
    "print(pi - 2)\n",
    "print(int(pi * 2))\n",
    "print(int(pi ** 2))\n",
    "print(str(10) + \"abcd\")\n"
   ]
  },
  {
   "cell_type": "code",
   "execution_count": null,
   "id": "185b2aec",
   "metadata": {},
   "outputs": [],
   "source": [
    "# 복합대입연산자 \n",
    "num = 100\n",
    "num += 100\n",
    "print(\"num = \", num) #200 출력\n",
    "\n",
    "str = \"abcd\"\n",
    "str += \"test\"\n",
    "str *= 2\n",
    "print(\"str : \", str ) \n",
    "\n"
   ]
  },
  {
   "cell_type": "code",
   "execution_count": null,
   "id": "1b42ed55",
   "metadata": {},
   "outputs": [],
   "source": [
    "# 키보드로 부터 데이터를 입력 받는 함수는 input() 입니다.\n",
    "\n",
    "# str = input(\"문자열 입력 필요> \")\n",
    "# print(str)\n",
    "      \n",
    "# 문자열을 입력 받아 문자열의 길이를 출력하고, 처음 글자와 마지막 글자를 출력하세요\n",
    "\n",
    "str = input(\"문자열을 입력하세요> \")\n",
    "\n",
    "print(str)\n",
    "print(\"문자열의 길이는 : \", len(str))\n",
    "print(\"처음 문자는 : \", str[0], \"마지막 문자는 : \", str[len(str)-1])\n",
    "\n",
    "#- 입력을 하지 않으면 *상태로 걸려 있는데, \n",
    "# 정지 버튼을 누르면 해당 cell이 더이상 대기하지 않고 멈춘다. \n",
    "    "
   ]
  },
  {
   "cell_type": "code",
   "execution_count": null,
   "id": "f046f64a",
   "metadata": {
    "scrolled": true
   },
   "outputs": [],
   "source": [
    "# 숫자 두 개를 입력 받아 실수형으로 바꾸고 \n",
    "# 두 수의 사칙연산을 출력하세요. \n",
    "# 문자열을 입력 받아 처음 입력 받은 숫자만큼 반복해서 출력하세요. \n",
    "\n",
    "num1 = float(input(\"input the first figure : \"))\n",
    "num2 = float(input(\"input the second figure : \"))\n",
    "\n",
    "print(\"두 수를 더하면 > \", num1 + num2)\n",
    "print(\"두 수를 빼면 > \", num1 - num2)\n",
    "print(\"두 수를 곱하면 > \", num1 * num2)\n",
    "print(\"두 수를 나누면 > \", num1 / num2)\n",
    "\n",
    "input_str = input(\"임의의 문자열을 입력하세요 : \")\n",
    "\n",
    "print(\"처음 입력 받은 숫자만큼 입력된 문자를 반복합니다. : \")\n",
    "print(int(num1)*(input_str+\"\\n\"))"
   ]
  },
  {
   "cell_type": "code",
   "execution_count": 3,
   "id": "3dcf1520",
   "metadata": {},
   "outputs": [
    {
     "name": "stdout",
     "output_type": "stream",
     "text": [
      "0번째 반복문입니다.\n",
      ">종료하시겠습니까?(y)\n",
      "1번째 반복문입니다.\n",
      ">종료하시겠습니까?(y)\n",
      "2번째 반복문입니다.\n",
      ">종료하시겠습니까?(y)\n",
      "3번째 반복문입니다.\n",
      ">종료하시겠습니까?(y)\n",
      "4번째 반복문입니다.\n",
      ">종료하시겠습니까?(y)\n",
      "5번째 반복문입니다.\n",
      ">종료하시겠습니까?(y)\n",
      "6번째 반복문입니다.\n",
      ">종료하시겠습니까?(y)\n",
      "7번째 반복문입니다.\n",
      ">종료하시겠습니까?(y)\n",
      "8번째 반복문입니다.\n",
      ">종료하시겠습니까?(y)y\n",
      "반복을 종료합니다.\n"
     ]
    }
   ],
   "source": [
    "i = 0\n",
    "\n",
    "while True : \n",
    "    print(\"{}번째 반복문입니다.\".format(i))\n",
    "    i += 1\n",
    "    \n",
    "    input_text = input(\">종료하시겠습니까?(y)\")\n",
    "    if input_text in [\"Y\", \"y\"]:\n",
    "        print (\"반복을 종료합니다.\")\n",
    "        break\n",
    "        "
   ]
  },
  {
   "cell_type": "code",
   "execution_count": 5,
   "id": "405e9376",
   "metadata": {},
   "outputs": [
    {
     "name": "stdout",
     "output_type": "stream",
     "text": [
      "15\n",
      "20\n",
      "25\n"
     ]
    }
   ],
   "source": [
    "numbers = [5, 15, 6, 20, 7, 25] # 변수를 선언합니다. \n",
    "\n",
    "for number in numbers: # 반복을 돌립니다. \n",
    "    if number <10:\n",
    "        continue # 현재 반복을 중지하고, 다음 반복으로 넘어갑니다. 즉, 10보다 작은 number는 출력되지 않습니다.\n",
    "    print(number)\n",
    "    \n",
    "    "
   ]
  },
  {
   "cell_type": "code",
   "execution_count": null,
   "id": "a189118e",
   "metadata": {},
   "outputs": [],
   "source": []
  }
 ],
 "metadata": {
  "kernelspec": {
   "display_name": "Python 3",
   "language": "python",
   "name": "python3"
  },
  "language_info": {
   "codemirror_mode": {
    "name": "ipython",
    "version": 3
   },
   "file_extension": ".py",
   "mimetype": "text/x-python",
   "name": "python",
   "nbconvert_exporter": "python",
   "pygments_lexer": "ipython3",
   "version": "3.8.8"
  }
 },
 "nbformat": 4,
 "nbformat_minor": 5
}
