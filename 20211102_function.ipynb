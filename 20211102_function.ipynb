{
 "cells": [
  {
   "cell_type": "code",
   "execution_count": 1,
   "id": "a697d581",
   "metadata": {},
   "outputs": [],
   "source": [
    "# 함수 부분의 복습\n",
    "# global 변수 정보 확인 \n",
    "\n",
    "# 평균 구하는 함수 \n",
    "\n",
    "def input_data():\n",
    "    global dict_score\n",
    "    input_str = input(\"name score > \").split()\n",
    "    if \"q\" in input_str:\n",
    "        return False\n",
    "    dic_score[input_str[0]] = int(input_str[1])\n",
    "    return True\n"
   ]
  },
  {
   "cell_type": "code",
   "execution_count": 6,
   "id": "28035d39",
   "metadata": {},
   "outputs": [],
   "source": [
    "# 재귀함수 - factorial function\n",
    "\n",
    "# 재귀함수 - fibonacci\n",
    "\n",
    "def fibo(n): # 임의의 문자로 선언 가능\n",
    "    global count\n",
    "    count += 1\n",
    "    if n == 1: \n",
    "        return 1\n",
    "    if n == 2:\n",
    "        return 2\n",
    "    else:\n",
    "        return fibo(n-1) + fibo(n-2)\n",
    "    "
   ]
  },
  {
   "cell_type": "code",
   "execution_count": 7,
   "id": "18df2066",
   "metadata": {},
   "outputs": [
    {
     "name": "stdout",
     "output_type": "stream",
     "text": [
      "fibo(35)에 계산에 활용된 덧셈 횟수는 18454929: >\n"
     ]
    }
   ],
   "source": [
    "count = 0\n",
    "fibo(35)\n",
    "print(\"fibo({})에 계산에 활용된 덧셈 횟수는 {}: >\".format(35, count)) # 굉장히 많은 시간/계산을 투여함. "
   ]
  },
  {
   "cell_type": "code",
   "execution_count": 17,
   "id": "3822658a",
   "metadata": {},
   "outputs": [],
   "source": [
    "dic_fibo = {1:1, 2:2}\n",
    "\n",
    "def fibo_m(n):\n",
    "    global count_fibo\n",
    "    count += 1\n",
    "    if n in dict_fibo:\n",
    "        return dict_fibo[n]\n",
    "    else:\n",
    "        output = fibo_m(n-1) + fibo_m(n-2)\n",
    "        dict_fibo[n] = output\n",
    "        return output\n"
   ]
  },
  {
   "cell_type": "code",
   "execution_count": 19,
   "id": "2a38f8ce",
   "metadata": {},
   "outputs": [
    {
     "ename": "UnboundLocalError",
     "evalue": "local variable 'count' referenced before assignment",
     "output_type": "error",
     "traceback": [
      "\u001b[0;31m---------------------------------------------------------------------------\u001b[0m",
      "\u001b[0;31mUnboundLocalError\u001b[0m                         Traceback (most recent call last)",
      "\u001b[0;32m<ipython-input-19-0d05fe126c95>\u001b[0m in \u001b[0;36m<module>\u001b[0;34m\u001b[0m\n\u001b[1;32m      1\u001b[0m \u001b[0mcount_fibo\u001b[0m \u001b[0;34m=\u001b[0m \u001b[0;36m0\u001b[0m\u001b[0;34m\u001b[0m\u001b[0;34m\u001b[0m\u001b[0m\n\u001b[0;32m----> 2\u001b[0;31m \u001b[0mfibo_m\u001b[0m\u001b[0;34m(\u001b[0m\u001b[0;36m35\u001b[0m\u001b[0;34m)\u001b[0m\u001b[0;34m\u001b[0m\u001b[0;34m\u001b[0m\u001b[0m\n\u001b[0m\u001b[1;32m      3\u001b[0m \u001b[0mprint\u001b[0m\u001b[0;34m(\u001b[0m\u001b[0;34m\"fibo({})에 계산에 활용된 덧셈 횟수는 {}: >\"\u001b[0m\u001b[0;34m.\u001b[0m\u001b[0mformat\u001b[0m\u001b[0;34m(\u001b[0m\u001b[0;36m35\u001b[0m\u001b[0;34m,\u001b[0m \u001b[0mcount_fibo\u001b[0m\u001b[0;34m)\u001b[0m\u001b[0;34m)\u001b[0m\u001b[0;34m\u001b[0m\u001b[0;34m\u001b[0m\u001b[0m\n",
      "\u001b[0;32m<ipython-input-17-bfb421c17ae1>\u001b[0m in \u001b[0;36mfibo_m\u001b[0;34m(n)\u001b[0m\n\u001b[1;32m      3\u001b[0m \u001b[0;32mdef\u001b[0m \u001b[0mfibo_m\u001b[0m\u001b[0;34m(\u001b[0m\u001b[0mn\u001b[0m\u001b[0;34m)\u001b[0m\u001b[0;34m:\u001b[0m\u001b[0;34m\u001b[0m\u001b[0;34m\u001b[0m\u001b[0m\n\u001b[1;32m      4\u001b[0m     \u001b[0;32mglobal\u001b[0m \u001b[0mcount_fibo\u001b[0m\u001b[0;34m\u001b[0m\u001b[0;34m\u001b[0m\u001b[0m\n\u001b[0;32m----> 5\u001b[0;31m     \u001b[0mcount\u001b[0m \u001b[0;34m+=\u001b[0m \u001b[0;36m1\u001b[0m\u001b[0;34m\u001b[0m\u001b[0;34m\u001b[0m\u001b[0m\n\u001b[0m\u001b[1;32m      6\u001b[0m     \u001b[0;32mif\u001b[0m \u001b[0mn\u001b[0m \u001b[0;32min\u001b[0m \u001b[0mdict_fibo\u001b[0m\u001b[0;34m:\u001b[0m\u001b[0;34m\u001b[0m\u001b[0;34m\u001b[0m\u001b[0m\n\u001b[1;32m      7\u001b[0m         \u001b[0;32mreturn\u001b[0m \u001b[0mdict_fibo\u001b[0m\u001b[0;34m[\u001b[0m\u001b[0mn\u001b[0m\u001b[0;34m]\u001b[0m\u001b[0;34m\u001b[0m\u001b[0;34m\u001b[0m\u001b[0m\n",
      "\u001b[0;31mUnboundLocalError\u001b[0m: local variable 'count' referenced before assignment"
     ]
    }
   ],
   "source": [
    "count_fibo = 0\n",
    "fibo_m(35)\n",
    "print(\"fibo({})에 계산에 활용된 덧셈 횟수는 {}: >\".format(35, count_fibo))"
   ]
  },
  {
   "cell_type": "code",
   "execution_count": null,
   "id": "58bb8e6b",
   "metadata": {},
   "outputs": [],
   "source": [
    "# memo 적용/ memo 함수\n",
    "# 메모화 \n",
    "# 튜플 함수 : 리스트와 유사한 자료형 / 한 번 결정된 요소는 바꿀 수 없음. \n",
    "# 람다 함수 "
   ]
  },
  {
   "cell_type": "code",
   "execution_count": 23,
   "id": "bfa08d1f",
   "metadata": {},
   "outputs": [
    {
     "ename": "AttributeError",
     "evalue": "'str' object has no attribute 'tuple_var'",
     "output_type": "error",
     "traceback": [
      "\u001b[0;31m---------------------------------------------------------------------------\u001b[0m",
      "\u001b[0;31mAttributeError\u001b[0m                            Traceback (most recent call last)",
      "\u001b[0;32m<ipython-input-23-ac2a939a3668>\u001b[0m in \u001b[0;36m<module>\u001b[0;34m\u001b[0m\n\u001b[1;32m      2\u001b[0m \u001b[0;34m\u001b[0m\u001b[0m\n\u001b[1;32m      3\u001b[0m \u001b[0mtuple_var\u001b[0m \u001b[0;34m=\u001b[0m \u001b[0;34m(\u001b[0m\u001b[0;36m1\u001b[0m\u001b[0;34m,\u001b[0m \u001b[0;36m2\u001b[0m\u001b[0;34m,\u001b[0m \u001b[0;36m3\u001b[0m\u001b[0;34m)\u001b[0m\u001b[0;34m\u001b[0m\u001b[0;34m\u001b[0m\u001b[0m\n\u001b[0;32m----> 4\u001b[0;31m \u001b[0mprint\u001b[0m\u001b[0;34m(\u001b[0m\u001b[0;34m\"tuple[0]\"\u001b[0m\u001b[0;34m.\u001b[0m\u001b[0mtuple_var\u001b[0m\u001b[0;34m[\u001b[0m\u001b[0;36m0\u001b[0m\u001b[0;34m]\u001b[0m\u001b[0;34m)\u001b[0m\u001b[0;34m\u001b[0m\u001b[0;34m\u001b[0m\u001b[0m\n\u001b[0m\u001b[1;32m      5\u001b[0m \u001b[0;31m# tuple_var[1] = 4 # error\u001b[0m\u001b[0;34m\u001b[0m\u001b[0;34m\u001b[0m\u001b[0;34m\u001b[0m\u001b[0m\n\u001b[1;32m      6\u001b[0m \u001b[0;34m\u001b[0m\u001b[0m\n",
      "\u001b[0;31mAttributeError\u001b[0m: 'str' object has no attribute 'tuple_var'"
     ]
    }
   ],
   "source": [
    " # tuple : 값 변경 안됨 ( )\n",
    "\n",
    "tuple_var = (1, 2, 3)\n",
    "print(\"tuple[0]\".tuple_var[0])\n",
    "# tuple_var[1] = 4 # error\n",
    "\n",
    "a, b = 10, 20\n",
    "print(\"{}, {}\".format(a, b))\n",
    "\n",
    "a, b = b, a\n",
    "print(\"{}, {}\".format(a, b))"
   ]
  },
  {
   "cell_type": "code",
   "execution_count": 24,
   "id": "fd437a98",
   "metadata": {},
   "outputs": [
    {
     "name": "stdout",
     "output_type": "stream",
     "text": [
      "0, 1\n",
      "1, 2\n",
      "2, 3\n",
      "3, 4\n"
     ]
    }
   ],
   "source": [
    "for idx, value in enumerate([1, 2, 3, 4]):\n",
    "    print(\"{}, {}\".format(idx, value))"
   ]
  },
  {
   "cell_type": "code",
   "execution_count": 27,
   "id": "03d2fd73",
   "metadata": {},
   "outputs": [
    {
     "ename": "AttributeError",
     "evalue": "'str' object has no attribute 'list'",
     "output_type": "error",
     "traceback": [
      "\u001b[0;31m---------------------------------------------------------------------------\u001b[0m",
      "\u001b[0;31mAttributeError\u001b[0m                            Traceback (most recent call last)",
      "\u001b[0;32m<ipython-input-27-3268a3acbec4>\u001b[0m in \u001b[0;36m<module>\u001b[0;34m\u001b[0m\n\u001b[1;32m      8\u001b[0m     \u001b[0;32mreturn\u001b[0m \u001b[0mx\u001b[0m\u001b[0;34m<\u001b[0m\u001b[0;36m3\u001b[0m\u001b[0;34m\u001b[0m\u001b[0;34m\u001b[0m\u001b[0m\n\u001b[1;32m      9\u001b[0m \u001b[0;34m\u001b[0m\u001b[0m\n\u001b[0;32m---> 10\u001b[0;31m \u001b[0mprint\u001b[0m\u001b[0;34m(\u001b[0m\u001b[0;34m\"map() : \"\u001b[0m\u001b[0;34m.\u001b[0m\u001b[0mlist\u001b[0m\u001b[0;34m(\u001b[0m\u001b[0mmap\u001b[0m\u001b[0;34m(\u001b[0m\u001b[0mpower\u001b[0m\u001b[0;34m,\u001b[0m \u001b[0;34m[\u001b[0m\u001b[0;36m1\u001b[0m\u001b[0;34m,\u001b[0m \u001b[0;36m2\u001b[0m\u001b[0;34m,\u001b[0m \u001b[0;36m3\u001b[0m\u001b[0;34m,\u001b[0m \u001b[0;36m4\u001b[0m\u001b[0;34m,\u001b[0m \u001b[0;36m5\u001b[0m\u001b[0;34m]\u001b[0m\u001b[0;34m)\u001b[0m\u001b[0;34m)\u001b[0m\u001b[0;34m)\u001b[0m\u001b[0;34m\u001b[0m\u001b[0;34m\u001b[0m\u001b[0m\n\u001b[0m\u001b[1;32m     11\u001b[0m \u001b[0mprint\u001b[0m\u001b[0;34m(\u001b[0m\u001b[0;34m\"filter() : \"\u001b[0m\u001b[0;34m.\u001b[0m\u001b[0mlist\u001b[0m\u001b[0;34m(\u001b[0m\u001b[0mfilter\u001b[0m\u001b[0;34m(\u001b[0m\u001b[0munder3\u001b[0m\u001b[0;34m,\u001b[0m \u001b[0;34m[\u001b[0m\u001b[0;36m1\u001b[0m\u001b[0;34m,\u001b[0m \u001b[0;36m2\u001b[0m\u001b[0;34m,\u001b[0m \u001b[0;36m3\u001b[0m\u001b[0;34m,\u001b[0m \u001b[0;36m4\u001b[0m\u001b[0;34m,\u001b[0m \u001b[0;36m5\u001b[0m\u001b[0;34m]\u001b[0m\u001b[0;34m)\u001b[0m\u001b[0;34m)\u001b[0m\u001b[0;34m)\u001b[0m\u001b[0;34m\u001b[0m\u001b[0;34m\u001b[0m\u001b[0m\n",
      "\u001b[0;31mAttributeError\u001b[0m: 'str' object has no attribute 'list'"
     ]
    }
   ],
   "source": [
    "# 람다 함수 : 함수를 좀 더 효율적으로 전달하기 위함. 함수를 간단히 정의하는 것. \n",
    "# filter 함수와 map 함수 \n",
    "# power 함수는 제곱의 함수 (a를 대입해주면 a*a를 output을 해주는 함수)\n",
    "\n",
    "def power(x):\n",
    "    return x*x\n",
    "def uner3(x):\n",
    "    return x<3\n",
    "\n",
    "print(\"map() : \".list(map(power, [1, 2, 3, 4, 5])))\n",
    "print(\"filter() : \".list(filter(under3, [1, 2, 3, 4, 5])))"
   ]
  },
  {
   "cell_type": "code",
   "execution_count": 28,
   "id": "1d104f5b",
   "metadata": {},
   "outputs": [],
   "source": [
    "# 파일 처리 : 텍스트 파일의 처리 (파일 열기, 읽기, 쓰기)\n",
    "# open 함수 : \n",
    "# 파일 객체 = open(문자열 ...)\n",
    "# file = open(\"basic.txt\", \"w\")\n",
    "# ./ 현재 작업 중인 디렉토리, ../ : 상위 드렉토리, ./디렉토리명 : 하위 디렉토리명\n"
   ]
  },
  {
   "cell_type": "code",
   "execution_count": 29,
   "id": "da721f20",
   "metadata": {},
   "outputs": [
    {
     "ename": "FileNotFoundError",
     "evalue": "[Errno 2] No such file or directory: './basic.txt'",
     "output_type": "error",
     "traceback": [
      "\u001b[0;31m---------------------------------------------------------------------------\u001b[0m",
      "\u001b[0;31mFileNotFoundError\u001b[0m                         Traceback (most recent call last)",
      "\u001b[0;32m<ipython-input-29-62979fd72ab6>\u001b[0m in \u001b[0;36m<module>\u001b[0;34m\u001b[0m\n\u001b[1;32m      1\u001b[0m \u001b[0;31m# File read\u001b[0m\u001b[0;34m\u001b[0m\u001b[0;34m\u001b[0m\u001b[0;34m\u001b[0m\u001b[0m\n\u001b[0;32m----> 2\u001b[0;31m \u001b[0mfile\u001b[0m \u001b[0;34m=\u001b[0m \u001b[0mopen\u001b[0m\u001b[0;34m(\u001b[0m\u001b[0;34m\"./basic.txt\"\u001b[0m\u001b[0;34m,\u001b[0m \u001b[0;34m\"r\"\u001b[0m\u001b[0;34m)\u001b[0m \u001b[0;31m# 입력모드로, 존재하지 않으면 error\u001b[0m\u001b[0;34m\u001b[0m\u001b[0;34m\u001b[0m\u001b[0m\n\u001b[0m\u001b[1;32m      3\u001b[0m \u001b[0ma\u001b[0m \u001b[0;34m=\u001b[0m \u001b[0mfile\u001b[0m\u001b[0;34m.\u001b[0m\u001b[0mread\u001b[0m\u001b[0;34m(\u001b[0m\u001b[0;34m)\u001b[0m\u001b[0;34m\u001b[0m\u001b[0;34m\u001b[0m\u001b[0m\n\u001b[1;32m      4\u001b[0m \u001b[0ma\u001b[0m\u001b[0;34m\u001b[0m\u001b[0;34m\u001b[0m\u001b[0m\n\u001b[1;32m      5\u001b[0m \u001b[0mfile\u001b[0m\u001b[0;34m.\u001b[0m\u001b[0mclose\u001b[0m\u001b[0;34m(\u001b[0m\u001b[0;34m)\u001b[0m\u001b[0;34m\u001b[0m\u001b[0;34m\u001b[0m\u001b[0m\n",
      "\u001b[0;31mFileNotFoundError\u001b[0m: [Errno 2] No such file or directory: './basic.txt'"
     ]
    }
   ],
   "source": [
    "# File read\n",
    "file = open(\"./basic.txt\", \"r\") # 입력모드로, 존재하지 않으면 error\n",
    "a = file.read()\n",
    "a\n",
    "file.close()"
   ]
  },
  {
   "cell_type": "code",
   "execution_count": null,
   "id": "7fa47ebb",
   "metadata": {},
   "outputs": [],
   "source": [
    "with open ('./basic.txt', 'r') as file: # 파일작성이 끝난 뒤 자동으로 파일을 닫아 줌. file.close() 자동으로 실행. "
   ]
  },
  {
   "cell_type": "code",
   "execution_count": null,
   "id": "d0913203",
   "metadata": {},
   "outputs": [],
   "source": [
    "# 파일명은 score.txt로 \n",
    "# 이름, 성적을 입력받아 파일에 저장, 'q'가 입력되면 종료, 홍길동 90 (구분자는 '.', \\n 으로)\n",
    "# file.write() => print() 함수와 사용법이 유사 file.write({}, {}\\n.format(name, score))\n",
    "\n",
    "with open(\"./score\") as score.file:\n",
    "    while True:\n",
    "        if not input_data(score_file)\n",
    "        break\n",
    "    score_file.seek(0) # 파일 포인터를 처음으로 이동시킴\n",
    "    for line in score_file: # 파일에서 한 라인씩 가져옴. \n",
    "        print(line)\n",
    "        print(\"------\")\n",
    "        score_file.seek(0) # 파일 포인터를 처음으로 이동시킴. \n",
    "        print(score_file.read())"
   ]
  },
  {
   "cell_type": "code",
   "execution_count": null,
   "id": "5d0fe6fe",
   "metadata": {},
   "outputs": [],
   "source": [
    "# generator 이터레이터를 직접 만들 때 사용하는 코드\n",
    "# 함수 내부에 yield 키워드를 사용하면 해당 함수는 generator 가 됨. \n",
    "# next 함수를 이용해 내부 코드 실행할 수 있도록 함. \n",
    "\n",
    "def g_func ():\n",
    "    print('test1')\n",
    "    yield \"test1\"\n",
    "    \n",
    "    print(\"test2\")\n",
    "    yield \"test2\"\n",
    "    \n",
    "    print(\"test3\")\n"
   ]
  },
  {
   "cell_type": "code",
   "execution_count": null,
   "id": "7ace7fa1",
   "metadata": {},
   "outputs": [],
   "source": []
  }
 ],
 "metadata": {
  "kernelspec": {
   "display_name": "Python 3",
   "language": "python",
   "name": "python3"
  },
  "language_info": {
   "codemirror_mode": {
    "name": "ipython",
    "version": 3
   },
   "file_extension": ".py",
   "mimetype": "text/x-python",
   "name": "python",
   "nbconvert_exporter": "python",
   "pygments_lexer": "ipython3",
   "version": "3.8.8"
  }
 },
 "nbformat": 4,
 "nbformat_minor": 5
}
