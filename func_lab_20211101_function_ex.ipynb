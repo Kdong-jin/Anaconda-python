{
 "cells": [
  {
   "cell_type": "code",
   "execution_count": null,
   "id": "5a762a46",
   "metadata": {},
   "outputs": [],
   "source": [
    "# 이름과 성적을 입력받아 딕셔너리에 저장한 후 이름을 키로 성적을 값으로 ( input_data() )\n",
    "# 이름에 'q'가 입력되면 입력 종료\n",
    "def input_data(dict_score):\n",
    "    input_str = input(\"name score > \").split()\n",
    "    if 'q' in input_str:\n",
    "        return False    \n",
    "    dict_score[input_str[0]] = int(input_str[1])\n",
    "    return True\n",
    "# 검색할 이름의 성적을 구하는 함수\n",
    "def search_name(s_name, dict_score):\n",
    "    for name in dict_score:\n",
    "        if name == s_name:\n",
    "            return dict_score[name]\n",
    "    return None\n",
    "# 총점 구하는 함수\n",
    "def sum_func(dict_score):\n",
    "    total = 0\n",
    "    for key, value in dict_score.items():\n",
    "        total += value\n",
    "    return total\n",
    "# 평균 구하는 함수\n",
    "def avg_func(dict_score):\n",
    "    return sum_func(dict_score) / len(dict_score)"
   ]
  },
  {
   "cell_type": "code",
   "execution_count": null,
   "id": "bb9d70cd",
   "metadata": {},
   "outputs": [],
   "source": [
    "# 자료 입력 :\n",
    "dict_score = {}\n",
    "while True:\n",
    "    if not input_data(dict_score):\n",
    "        break"
   ]
  },
  {
   "cell_type": "code",
   "execution_count": null,
   "id": "c0ffa700",
   "metadata": {},
   "outputs": [],
   "source": [
    "# 1. 검색할 이름 입력 : 해당 이름의 성적 출력, 없으면 자료 없음 출력 ( search_func() )\n",
    "s_name = input(\"검색할 이름 > \")\n",
    "s_score = search_name(s_name, dict_score)\n",
    "if s_score:\n",
    "    print(\"{}의 점수 {}\".format(s_name, s_score))\n",
    "else:\n",
    "    print(\"자료 없음\")"
   ]
  },
  {
   "cell_type": "code",
   "execution_count": null,
   "id": "23c3ee9f",
   "metadata": {},
   "outputs": [],
   "source": [
    "# 2. 전체 학생의 인원수, 총점과 평균을 출력 ( sum_func(), avg_func() )\n",
    "print(\"인원수 :{}, 총점 : {}. 평균 : {:3.2f}\".format(len(dict_score),\n",
    "                                             sum_func(dict_score),\n",
    "                                             avg_func(dict_score)))"
   ]
  }
 ],
 "metadata": {
  "kernelspec": {
   "display_name": "Python 3",
   "language": "python",
   "name": "python3"
  },
  "language_info": {
   "codemirror_mode": {
    "name": "ipython",
    "version": 3
   },
   "file_extension": ".py",
   "mimetype": "text/x-python",
   "name": "python",
   "nbconvert_exporter": "python",
   "pygments_lexer": "ipython3",
   "version": "3.8.8"
  }
 },
 "nbformat": 4,
 "nbformat_minor": 5
}
