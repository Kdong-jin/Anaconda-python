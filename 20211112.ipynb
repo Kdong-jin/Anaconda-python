{
 "cells": [
  {
   "cell_type": "code",
   "execution_count": null,
   "id": "e917cadb",
   "metadata": {},
   "outputs": [],
   "source": [
    "# 조홍근 강사님 (2기 학생분)\n",
    "\n",
    "# 머시러닝의 이해 \n",
    "# 전처리 : 데이터를 정리하고, 클리닝하는 과정\n",
    "# 각자의 자기 소개 및 수업 수준을 결정하기 위한 준비 과정\n",
    "# viual studio installation\n"
   ]
  }
 ],
 "metadata": {
  "kernelspec": {
   "display_name": "Python 3",
   "language": "python",
   "name": "python3"
  },
  "language_info": {
   "codemirror_mode": {
    "name": "ipython",
    "version": 3
   },
   "file_extension": ".py",
   "mimetype": "text/x-python",
   "name": "python",
   "nbconvert_exporter": "python",
   "pygments_lexer": "ipython3",
   "version": "3.8.8"
  }
 },
 "nbformat": 4,
 "nbformat_minor": 5
}
